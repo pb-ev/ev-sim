{
 "cells": [
  {
   "cell_type": "markdown",
   "metadata": {},
   "source": [
    "# EV simulation"
   ]
  },
  {
   "cell_type": "markdown",
   "metadata": {},
   "source": [
    "This notebook explores the EV driving and charging behaviour of a population using 6 archetypes. Details of the archetypes are in the file EV_ Archetypes.csv.\n",
    "\n",
    "- Average (UK)\n",
    "- Intelligent Octopus average\n",
    "- Infrequent charging\t\n",
    "- Infrequent driving\n",
    "- Scheduled charging\t\n",
    "- Always plugged-in\n",
    "\n",
    "The simulation consists of two models:\n",
    "1. An EV model that simulates individual vehicle behavior\n",
    "2. A population model that manages multiple EVs and aggregates their behavior\n",
    "\n",
    "Each EV in the simulation:\n",
    "- Has a daily plug-in/out schedule with some random variation\n",
    "- Drives based on probabilities that vary by time of day\n",
    "- Charges based on a schedule optimized for electricity prices\n",
    "- Has a target state of charge (SoC) to reach before unplugging\n",
    "\n",
    "An overview of the design of the simulation can be found [here](https://docs.google.com/document/d/1PZsT9akJMMpauaZ-f-_b0JCmFjr7IAr-ayupENBtGnI/edit?tab=t.0)"
   ]
  },
  {
   "cell_type": "code",
   "execution_count": 1,
   "metadata": {},
   "outputs": [],
   "source": [
    "import pandas as pd\n",
    "from helper import convert_time\n",
    "from ev_model import EVModel, PopulationSimulator"
   ]
  },
  {
   "cell_type": "code",
   "execution_count": 2,
   "metadata": {},
   "outputs": [
    {
     "data": {
      "text/html": [
       "<div>\n",
       "<style scoped>\n",
       "    .dataframe tbody tr th:only-of-type {\n",
       "        vertical-align: middle;\n",
       "    }\n",
       "\n",
       "    .dataframe tbody tr th {\n",
       "        vertical-align: top;\n",
       "    }\n",
       "\n",
       "    .dataframe thead th {\n",
       "        text-align: right;\n",
       "    }\n",
       "</style>\n",
       "<table border=\"1\" class=\"dataframe\">\n",
       "  <thead>\n",
       "    <tr style=\"text-align: right;\">\n",
       "      <th></th>\n",
       "      <th>#</th>\n",
       "      <th>Name</th>\n",
       "      <th>% of population</th>\n",
       "      <th>Miles/yr</th>\n",
       "      <th>Battery (kWh)</th>\n",
       "      <th>Efficiency (mi/kWh)</th>\n",
       "      <th>Plug-in frequency (per day)</th>\n",
       "      <th>Charger kW</th>\n",
       "      <th>Plug-in time</th>\n",
       "      <th>Plug-out time</th>\n",
       "      <th>Target SoC</th>\n",
       "      <th>kWh/year</th>\n",
       "      <th>kWh/plug-in</th>\n",
       "      <th>Plug-in SoC</th>\n",
       "      <th>SoC requirement</th>\n",
       "      <th>Charging duration (hrs)</th>\n",
       "    </tr>\n",
       "  </thead>\n",
       "  <tbody>\n",
       "    <tr>\n",
       "      <th>0</th>\n",
       "      <td>1</td>\n",
       "      <td>Average (UK)</td>\n",
       "      <td>40</td>\n",
       "      <td>9435</td>\n",
       "      <td>60.0</td>\n",
       "      <td>3.5</td>\n",
       "      <td>1.0</td>\n",
       "      <td>7</td>\n",
       "      <td>18</td>\n",
       "      <td>7</td>\n",
       "      <td>80.0</td>\n",
       "      <td>2696</td>\n",
       "      <td>7</td>\n",
       "      <td>68.0</td>\n",
       "      <td>12%</td>\n",
       "      <td>1.0</td>\n",
       "    </tr>\n",
       "    <tr>\n",
       "      <th>1</th>\n",
       "      <td>2</td>\n",
       "      <td>Intelligent Octopus average</td>\n",
       "      <td>30</td>\n",
       "      <td>28105</td>\n",
       "      <td>72.5</td>\n",
       "      <td>3.5</td>\n",
       "      <td>1.0</td>\n",
       "      <td>7</td>\n",
       "      <td>18</td>\n",
       "      <td>7</td>\n",
       "      <td>80.0</td>\n",
       "      <td>8030</td>\n",
       "      <td>22</td>\n",
       "      <td>52.0</td>\n",
       "      <td>28%</td>\n",
       "      <td>2.5</td>\n",
       "    </tr>\n",
       "    <tr>\n",
       "      <th>2</th>\n",
       "      <td>3</td>\n",
       "      <td>Infrequent charging</td>\n",
       "      <td>10</td>\n",
       "      <td>9435</td>\n",
       "      <td>60.0</td>\n",
       "      <td>3.5</td>\n",
       "      <td>0.2</td>\n",
       "      <td>7</td>\n",
       "      <td>18</td>\n",
       "      <td>7</td>\n",
       "      <td>80.0</td>\n",
       "      <td>2696</td>\n",
       "      <td>37</td>\n",
       "      <td>18.0</td>\n",
       "      <td>62%</td>\n",
       "      <td>5.0</td>\n",
       "    </tr>\n",
       "    <tr>\n",
       "      <th>3</th>\n",
       "      <td>4</td>\n",
       "      <td>Infrequent driving</td>\n",
       "      <td>10</td>\n",
       "      <td>5700</td>\n",
       "      <td>60.0</td>\n",
       "      <td>3.5</td>\n",
       "      <td>1.0</td>\n",
       "      <td>7</td>\n",
       "      <td>18</td>\n",
       "      <td>7</td>\n",
       "      <td>80.0</td>\n",
       "      <td>1629</td>\n",
       "      <td>4</td>\n",
       "      <td>73.0</td>\n",
       "      <td>7%</td>\n",
       "      <td>1.0</td>\n",
       "    </tr>\n",
       "    <tr>\n",
       "      <th>4</th>\n",
       "      <td>5</td>\n",
       "      <td>Scheduled charging</td>\n",
       "      <td>9</td>\n",
       "      <td>9435</td>\n",
       "      <td>60.0</td>\n",
       "      <td>3.5</td>\n",
       "      <td>1.0</td>\n",
       "      <td>7</td>\n",
       "      <td>22</td>\n",
       "      <td>9</td>\n",
       "      <td>80.0</td>\n",
       "      <td>2696</td>\n",
       "      <td>7</td>\n",
       "      <td>68.0</td>\n",
       "      <td>12%</td>\n",
       "      <td>1.0</td>\n",
       "    </tr>\n",
       "    <tr>\n",
       "      <th>5</th>\n",
       "      <td>6</td>\n",
       "      <td>Always plugged-in</td>\n",
       "      <td>1</td>\n",
       "      <td>9435</td>\n",
       "      <td>60.0</td>\n",
       "      <td>3.5</td>\n",
       "      <td>1.0</td>\n",
       "      <td>7</td>\n",
       "      <td>0</td>\n",
       "      <td>23</td>\n",
       "      <td>80.0</td>\n",
       "      <td>2696</td>\n",
       "      <td>7</td>\n",
       "      <td>68.0</td>\n",
       "      <td>12%</td>\n",
       "      <td>1.0</td>\n",
       "    </tr>\n",
       "  </tbody>\n",
       "</table>\n",
       "</div>"
      ],
      "text/plain": [
       "   #                         Name  % of population  Miles/yr  Battery (kWh)  \\\n",
       "0  1                 Average (UK)               40      9435           60.0   \n",
       "1  2  Intelligent Octopus average               30     28105           72.5   \n",
       "2  3          Infrequent charging               10      9435           60.0   \n",
       "3  4           Infrequent driving               10      5700           60.0   \n",
       "4  5           Scheduled charging                9      9435           60.0   \n",
       "5  6            Always plugged-in                1      9435           60.0   \n",
       "\n",
       "   Efficiency (mi/kWh)  Plug-in frequency (per day)  Charger kW  Plug-in time  \\\n",
       "0                  3.5                          1.0           7            18   \n",
       "1                  3.5                          1.0           7            18   \n",
       "2                  3.5                          0.2           7            18   \n",
       "3                  3.5                          1.0           7            18   \n",
       "4                  3.5                          1.0           7            22   \n",
       "5                  3.5                          1.0           7             0   \n",
       "\n",
       "   Plug-out time  Target SoC  kWh/year  kWh/plug-in  Plug-in SoC  \\\n",
       "0              7        80.0      2696            7         68.0   \n",
       "1              7        80.0      8030           22         52.0   \n",
       "2              7        80.0      2696           37         18.0   \n",
       "3              7        80.0      1629            4         73.0   \n",
       "4              9        80.0      2696            7         68.0   \n",
       "5             23        80.0      2696            7         68.0   \n",
       "\n",
       "  SoC requirement  Charging duration (hrs)  \n",
       "0             12%                      1.0  \n",
       "1             28%                      2.5  \n",
       "2             62%                      5.0  \n",
       "3              7%                      1.0  \n",
       "4             12%                      1.0  \n",
       "5             12%                      1.0  "
      ]
     },
     "execution_count": 2,
     "metadata": {},
     "output_type": "execute_result"
    }
   ],
   "source": [
    "# read archetype data\n",
    "archetypes_df = pd.read_csv('EV_Archetypes.csv')\n",
    "# convert time to int\n",
    "archetypes_df['Plug-in time'] = archetypes_df['Plug-in time'].apply(convert_time)\n",
    "archetypes_df['Plug-out time'] = archetypes_df['Plug-out time'].apply(convert_time)\n",
    "# convert SoC to float - stripping % \n",
    "archetypes_df['Target SoC'] = archetypes_df['Target SoC'].str.rstrip('%').astype(float)\n",
    "archetypes_df['Plug-in SoC'] = archetypes_df['Plug-in SoC'].str.rstrip('%').astype(float)\n",
    "archetypes_df\n"
   ]
  },
  {
   "cell_type": "markdown",
   "metadata": {},
   "source": [
    "## Population simulation\n",
    "\n",
    "The following graph displays the results for the entire population simulation, with each archetype represented by its percentage of the population."
   ]
  },
  {
   "cell_type": "code",
   "execution_count": 3,
   "metadata": {},
   "outputs": [],
   "source": [
    "# run simulation\n",
    "population_size = 10000\n",
    "simulator = PopulationSimulator(archetypes_df, population_size)\n",
    "results = simulator.run_simulation(hours=24)"
   ]
  },
  {
   "cell_type": "code",
   "execution_count": 4,
   "metadata": {},
   "outputs": [
    {
     "data": {
      "application/vnd.plotly.v1+json": {
       "config": {
        "plotlyServerURL": "https://plot.ly"
       },
       "data": [
        {
         "line": {
          "color": "red",
          "width": 2
         },
         "name": "Mean SOC",
         "type": "scatter",
         "visible": true,
         "x": [
          0,
          1,
          2,
          3,
          4,
          5,
          6,
          7,
          8,
          9,
          10,
          11,
          12,
          13,
          14,
          15,
          16,
          17,
          18,
          19,
          20,
          21,
          22,
          23
         ],
         "y": {
          "bdata": "6hSas84uU0AQ1PKlWnhTQG1jtZuDxFNAgRH9fP4OVECn0FVvilhUQGUpSPuvp1RAIWGt7vLwVEA021lmZ+1UQLa2tIzx3VRAcmomRwpqVEBb62+7bVdUQBc4raaBRVRArY20RIAyVEAbLenWAB9UQFuYEeAxDFRAyjdGcrL4U0CBLBtuYoVTQHsq7rdmd1NAoF+q6OZwU0D6CCY8HXBTQFDzBNHqb1NAUPME0epvU0BQ8wTR6m9TQI3923Rbw1NA",
          "dtype": "f8"
         }
        },
        {
         "line": {
          "color": "red",
          "dash": "dash",
          "width": 1.5
         },
         "name": "95th Percentile",
         "type": "scatter",
         "visible": true,
         "x": [
          0,
          1,
          2,
          3,
          4,
          5,
          6,
          7,
          8,
          9,
          10,
          11,
          12,
          13,
          14,
          15,
          16,
          17,
          18,
          19,
          20,
          21,
          22,
          23
         ],
         "y": {
          "bdata": "/59roVSAVUA9e/UOiS1WQB4X7W0QaVZAhEidFhOTVkB+vJyiKatWQN8603LQuVZAy0CBNx/FVkA0+e86vcRWQD48GUlVwlZAgJAHgc6tVkDcO7vD86dWQDqoV6vtpFZA5kZlr9afVkC8L5cmcJpWQFcwdtk4k1ZAGQCNE4mQVkCJfl+9Y1xWQLSn5HwxVlZAFSIdh4FQVkAVIh2HgVBWQBUiHYeBUFZAFSIdh4FQVkAVIh2HgVBWQB7lLUY5aFZA",
          "dtype": "f8"
         }
        },
        {
         "line": {
          "color": "red",
          "dash": "dash",
          "width": 1.5
         },
         "name": "5th Percentile",
         "type": "scatter",
         "visible": true,
         "x": [
          0,
          1,
          2,
          3,
          4,
          5,
          6,
          7,
          8,
          9,
          10,
          11,
          12,
          13,
          14,
          15,
          16,
          17,
          18,
          19,
          20,
          21,
          22,
          23
         ],
         "y": {
          "bdata": "QpZjbe06UUCc7C4+NUVRQLM3ZmXWUlFA2dGfEuVsUUCzDqVBp4tRQF3WPAwq1VFAH78v86lRUkALmSCyrU9SQBbIdwzxQVJAqQ2ZyO+wUUAIhxRc9pdRQCOdJkS0dFFAOO5LrSxFUUD472hSxyxRQPLxr0OwGlFASjTavbkCUUDBwFg+iiFQQO6AdikMCVBA3ALAK9UFUED2p2J6mQFQQBQBPMVuAVBAFAE8xW4BUEAUATzFbgFQQBNBTXeMClFA",
          "dtype": "f8"
         }
        },
        {
         "line": {
          "color": "red",
          "width": 2
         },
         "name": "Mean SOC",
         "type": "scatter",
         "visible": false,
         "x": [
          0,
          1,
          2,
          3,
          4,
          5,
          6,
          7,
          8,
          9,
          10,
          11,
          12,
          13,
          14,
          15,
          16,
          17,
          18,
          19,
          20,
          21,
          22,
          23
         ],
         "y": {
          "bdata": "xMvwzRtWT0BCkGDcs21QQNJamkfDMFFAHdlLLNv7UUDTZG9aY8FSQDWh8KRciFNAYZxHCKlRVEBioGmpgktUQOwyx0SrJFRAyxp6NSkTU0At3vZZX99SQO1Avvgkr1JA/lHPCTaAUkDamrpZXU5SQPiczHKyIVJAxexyeOL5UUBhG/+fMuNQQLTd8je+xVBASlHJVsS5UEBkN+0HJrhQQOmbQ+YHuFBAVTCxCbW3UEBVMLEJtbdQQL85AbJLeFFA",
          "dtype": "f8"
         }
        },
        {
         "line": {
          "color": "red",
          "dash": "dash",
          "width": 1.5
         },
         "name": "95th Percentile",
         "type": "scatter",
         "visible": false,
         "x": [
          0,
          1,
          2,
          3,
          4,
          5,
          6,
          7,
          8,
          9,
          10,
          11,
          12,
          13,
          14,
          15,
          16,
          17,
          18,
          19,
          20,
          21,
          22,
          23
         ],
         "y": {
          "bdata": "BhzY3M1mUkD4FtUbbRFTQKz1U6HaYlRAUBgwG8QcVUDLEQLIUnRVQPr+j11Ix1VA0lzRX7oXVkCRoZcDgRdWQODH1XQAFFZAZhciB+/yVUAAAHmyI+9VQPS9Of675VVAVaYU8xnbVUBAdmI90NRVQLTumf4Vy1VAQKBwgk3FVUCdYojhqJBVQIuhEPfNjlVAYVni2ruMVUBhWeLau4xVQGFZ4tq7jFVAYVni2ruMVUBhWeLau4xVQIgLJENR11VA",
          "dtype": "f8"
         }
        },
        {
         "line": {
          "color": "red",
          "dash": "dash",
          "width": 1.5
         },
         "name": "5th Percentile",
         "type": "scatter",
         "visible": false,
         "x": [
          0,
          1,
          2,
          3,
          4,
          5,
          6,
          7,
          8,
          9,
          10,
          11,
          12,
          13,
          14,
          15,
          16,
          17,
          18,
          19,
          20,
          21,
          22,
          23
         ],
         "y": {
          "bdata": "yvCAGnWKSkBmF9WeRv5KQOerWbc98ktAStxHCiSOTkCXULons3RPQKw6KC+WoFBARVHacBIAUkBvS1YAsPRRQFpTInWgt1FAkrpzFPpOTUAfxhnLIqpMQNe/ZOyWOkxAisxCmImwS0A9kT+rn2RKQEITgGZVvklA7r+EFqJZSUBrEzYVVEtFQJU01pf+/kRACx6gNNLIRECfPcTg87JEQJ89xODzskRAeotSCrOwREB6i1IKs7BEQKSwhxjD5UhA",
          "dtype": "f8"
         }
        },
        {
         "line": {
          "color": "red",
          "width": 2
         },
         "name": "Mean SOC",
         "type": "scatter",
         "visible": false,
         "x": [
          0,
          1,
          2,
          3,
          4,
          5,
          6,
          7,
          8,
          9,
          10,
          11,
          12,
          13,
          14,
          15,
          16,
          17,
          18,
          19,
          20,
          21,
          22,
          23
         ],
         "y": {
          "bdata": "RadWNB+uQEA9bemTS3dEQDrQssPhU0hAcaAcx34qTEA9bemTS9dPQKbwYWp50lFAmXyHKdK0U0BMz37QPrNTQKqzo6mzolNAjB3ob0ovU0DqAQ1Jvx5TQKkN5/I7DFNAzr6v6pH2UkB/zhaaa+ZSQKv9GA+Tz1JAw7JuDEa8UkDsS4KunktSQFCu4ATlOVJAP2/dEq8tUkBh5fyExidSQA66uq5hJ1JADrq6rmEnUkC/ntL53yhSQA66uq5hH1RA",
          "dtype": "f8"
         }
        },
        {
         "line": {
          "color": "red",
          "dash": "dash",
          "width": 1.5
         },
         "name": "95th Percentile",
         "type": "scatter",
         "visible": false,
         "x": [
          0,
          1,
          2,
          3,
          4,
          5,
          6,
          7,
          8,
          9,
          10,
          11,
          12,
          13,
          14,
          15,
          16,
          17,
          18,
          19,
          20,
          21,
          22,
          23
         ],
         "y": {
          "bdata": "1abDPCvERUBkUSDeBj5LQOGoD9GSnk9AfaF5S74+UUB72oNXvpJTQGj/PPUYflVAwX18AuyXVkDBfXwC7JdWQCpkID5OiVZALzS8e7pdVkCm2XNtzVpWQOrIP/JgRFZAneRu9To+VkAmQuASDD1WQK5xuUFMNlZArnG5QUw2VkDA2CxJbhJWQOzj+ugHClZArSoklgsGVkCtKiSWCwZWQK0qJJYLBlZArSoklgsGVkCtKiSWCwZWQLHx9mytklZA",
          "dtype": "f8"
         }
        },
        {
         "line": {
          "color": "red",
          "dash": "dash",
          "width": 1.5
         },
         "name": "5th Percentile",
         "type": "scatter",
         "visible": false,
         "x": [
          0,
          1,
          2,
          3,
          4,
          5,
          6,
          7,
          8,
          9,
          10,
          11,
          12,
          13,
          14,
          15,
          16,
          17,
          18,
          19,
          20,
          21,
          22,
          23
         ],
         "y": {
          "bdata": "0oAIgLj7NEA/m6sm79o7QOYHh0rrH0FACLrZagwHRUBzNJ8BP6lIQMr9NByQTU1AQj6xrB9WUUBCPrGsH1ZRQJ/XVvRcR1FAAn7Va/RiUEBNtNwyUR1QQG6pzdKuE1BAFxWOaC0GUEDIwLfQmOlPQAp75KKTxk9Ad2IyLMuGT0Bow5JekPdNQDkZa/bqpE1Aovc4KwlXTUCi9zgrCVdNQKL3OCsJV01Aovc4KwlXTUD6jGEsWGRNQG0aVD1YR1FA",
          "dtype": "f8"
         }
        },
        {
         "line": {
          "color": "red",
          "width": 2
         },
         "name": "Mean SOC",
         "type": "scatter",
         "visible": false,
         "x": [
          0,
          1,
          2,
          3,
          4,
          5,
          6,
          7,
          8,
          9,
          10,
          11,
          12,
          13,
          14,
          15,
          16,
          17,
          18,
          19,
          20,
          21,
          22,
          23
         ],
         "y": {
          "bdata": "UxPepM1RVEDH7R5M231UQO2sdz5nq1RAQgLNk7zQVEDKilUcRQFVQAsyY5AfIlVA94Mbr6RVVUDYEwhVvVNVQDSZ39CBSVVA8EJmETYFVUAiDmNxXPhUQEKzEzlS6lRAm8qoydnfVEDJJ2M+w9JUQBb1MA2Ux1RAScAtbbq6VEAA/HHCMXZUQFE3gnw/a1RALlksNxtpVEAYxZ2zrWdUQBjFnbOtZ1RAGMWds61nVEAYxZ2zrWdUQFIyPoe0mVRA",
          "dtype": "f8"
         }
        },
        {
         "line": {
          "color": "red",
          "dash": "dash",
          "width": 1.5
         },
         "name": "95th Percentile",
         "type": "scatter",
         "visible": false,
         "x": [
          0,
          1,
          2,
          3,
          4,
          5,
          6,
          7,
          8,
          9,
          10,
          11,
          12,
          13,
          14,
          15,
          16,
          17,
          18,
          19,
          20,
          21,
          22,
          23
         ],
         "y": {
          "bdata": "qjQJ36wBVkBS0OCNo15WQKE3GIjPf1ZAEYe9rfOQVkCAFNVfg5lWQF5u1qzLo1ZA/UDPwTWrVkD9QM/BNatWQCbfJ3SeqVZAn/PuzuCWVkAJfcE2MZJWQHmFZwmEj1ZAeYVnCYSPVkA0GevpMYxWQIX759RbiFZAT3s1aOt+VkBnaJRPhVxWQIBSI2vJU1ZA+n10zqNRVkD6fXTOo1FWQPp9dM6jUVZA+n10zqNRVkD6fXTOo1FWQFLQ4I2jXlZA",
          "dtype": "f8"
         }
        },
        {
         "line": {
          "color": "red",
          "dash": "dash",
          "width": 1.5
         },
         "name": "5th Percentile",
         "type": "scatter",
         "visible": false,
         "x": [
          0,
          1,
          2,
          3,
          4,
          5,
          6,
          7,
          8,
          9,
          10,
          11,
          12,
          13,
          14,
          15,
          16,
          17,
          18,
          19,
          20,
          21,
          22,
          23
         ],
         "y": {
          "bdata": "u1578DJwUkCWUNu8vHNSQF87FwEqglJAiOMjnA2UUkDM7QgAKctSQBsbSC8m7VJANYdIafWMU0B6EXQIh3NTQKFGNr1kZVNAfNSBO68aU0D61FDxJQlTQLAFj3xv1FJAyiX9T7zOUkDJzu0w9bZSQA4My+m4qFJAEapswziNUkAgQYssJ1NSQMB8EFERSFJAJMnVAnxGUkAkydUCfEZSQCTJ1QJ8RlJAJMnVAnxGUkAkydUCfEZSQNx/H9u3q1JA",
          "dtype": "f8"
         }
        },
        {
         "line": {
          "color": "red",
          "width": 2
         },
         "name": "Mean SOC",
         "type": "scatter",
         "visible": false,
         "x": [
          0,
          1,
          2,
          3,
          4,
          5,
          6,
          7,
          8,
          9,
          10,
          11,
          12,
          13,
          14,
          15,
          16,
          17,
          18,
          19,
          20,
          21,
          22,
          23
         ],
         "y": {
          "bdata": "pX70mHYfU0BCqgPhTGlTQP5lv5wIpVNAEglGXFb2U0BhOrBUMjtUQCl1B3PCd1RAuSF7WMTAVECLgL3Tzd1UQE1gZOwC+lRAEup3E1HmVEBjqLsMYNtUQETW2F1uyVRA7rviWvyzVED/yJD1GqVUQAMEOntZlVRAidy3Q7d9VEBlyMKMfAtUQDgk28iq+FNA6HJn0KjjU0C7zn8M19BTQJWTGlN1vlNAp6DI7ZOvU0BMSyll46lTQAN1b3Ji9VNA",
          "dtype": "f8"
         }
        },
        {
         "line": {
          "color": "red",
          "dash": "dash",
          "width": 1.5
         },
         "name": "95th Percentile",
         "type": "scatter",
         "visible": false,
         "x": [
          0,
          1,
          2,
          3,
          4,
          5,
          6,
          7,
          8,
          9,
          10,
          11,
          12,
          13,
          14,
          15,
          16,
          17,
          18,
          19,
          20,
          21,
          22,
          23
         ],
         "y": {
          "bdata": "nRNAY0V3VUCs3OhOFTJWQNLO+Ds0V1ZA3nPIvOecVkCXou7CpLNWQJCqWziculZAnI9MnW7EVkBMZnxXcMVWQERVJbjSxVZAATg9pdvEVkCcj0ydbsRWQCoJkmbXw1ZADUK22q7BVkBe/B5Xn8BWQIpP3c6zvlZAK4Mt46u1VkDroX/oLJtWQBzRvcHujVZAPI9KRACDVkA+gII3o3dWQMEcMr6XdlZAIU7jeNZeVkAhTuN41l5WQKgrQYYukVZA",
          "dtype": "f8"
         }
        },
        {
         "line": {
          "color": "red",
          "dash": "dash",
          "width": 1.5
         },
         "name": "5th Percentile",
         "type": "scatter",
         "visible": false,
         "x": [
          0,
          1,
          2,
          3,
          4,
          5,
          6,
          7,
          8,
          9,
          10,
          11,
          12,
          13,
          14,
          15,
          16,
          17,
          18,
          19,
          20,
          21,
          22,
          23
         ],
         "y": {
          "bdata": "OVBG8eozUUCYumkIGj5RQOl6/X0lSlFAIhf1X9xsUUA28+E4JIRRQGd1poxmoFFAZH2tJuLRUUA+APELMP5RQOhh1r0VdFJAwbR4mZZIUkC3TDN7gzVSQEb/bV62FFJAqwHTD2X+UUCif9aA3OFRQEYSSkMPxVFAP9eK+GqjUUDFB/1BsDhRQFKRc5enEVFA83JKME0IUUBUoE/k8/hQQBgl2rYxtlBAAe3roUVRUEArkqopNUlQQHLSDa4ME1FA",
          "dtype": "f8"
         }
        },
        {
         "line": {
          "color": "red",
          "width": 2
         },
         "name": "Mean SOC",
         "type": "scatter",
         "visible": false,
         "x": [
          0,
          1,
          2,
          3,
          4,
          5,
          6,
          7,
          8,
          9,
          10,
          11,
          12,
          13,
          14,
          15,
          16,
          17,
          18,
          19,
          20,
          21,
          22,
          23
         ],
         "y": {
          "bdata": "VP4ASD4SU0ARurwD+k1TQO+XmuHXa1NAzHV4v7WJU0ARurwD+r1TQGYPEllP41NAqlNWnZMXVECZQkWMgiZUQMH3FZT4OFRASCiZvGthVED4ZfJMamxUQA4KskPPjVRAvUcL1M2YVEC3XFeOZJhUQI5PgSbZtVRAyBVjP2C5VEDh9Mu7A8tUQOH0y7sDy1RAo0M2XRPHVEDlL3VBQrtUQKZ+3+JRt1RApn7f4lG3VEBozUmEYbNUQGjNSYRhs1RA",
          "dtype": "f8"
         }
        },
        {
         "line": {
          "color": "red",
          "dash": "dash",
          "width": 1.5
         },
         "name": "95th Percentile",
         "type": "scatter",
         "visible": false,
         "x": [
          0,
          1,
          2,
          3,
          4,
          5,
          6,
          7,
          8,
          9,
          10,
          11,
          12,
          13,
          14,
          15,
          16,
          17,
          18,
          19,
          20,
          21,
          22,
          23
         ],
         "y": {
          "bdata": "4887vT+4VED++ck/HWtWQP75yT8da1ZA/vnJPx1rVkApJz3xJYFWQCknPfElgVZAQX7sjzKMVkBBfuyPMoxWQEF+7I8yjFZAQX7sjzKMVkBBfuyPMoxWQMfQb2TQjlZAx9BvZNCOVkDz6eTk95dWQPPp5OT3l1ZA8+nk5PeXVkDz6eTk95dWQPPp5OT3l1ZA8+nk5PeXVkDz6eTk95dWQPPp5OT3l1ZA8+nk5PeXVkDz6eTk95dWQPPp5OT3l1ZA",
          "dtype": "f8"
         }
        },
        {
         "line": {
          "color": "red",
          "dash": "dash",
          "width": 1.5
         },
         "name": "5th Percentile",
         "type": "scatter",
         "visible": false,
         "x": [
          0,
          1,
          2,
          3,
          4,
          5,
          6,
          7,
          8,
          9,
          10,
          11,
          12,
          13,
          14,
          15,
          16,
          17,
          18,
          19,
          20,
          21,
          22,
          23
         ],
         "y": {
          "bdata": "0jBSTnAxUUDSMFJOcDFRQNIwUk5wMVFAjuwJQ+Q7UUA0DcfmGERRQOhpDr8adVFAwaoW3WWuUUDBqhbdZa5RQMGqFt1lrlFAbgQZcdK+UUBuBBlx0r5RQOjUOz7ZqlFA36lyNkRsUUDfqXI2RGxRQCwXuFs8MVFALBe4WzwxUUBGygWu2ChRQEbKBa7YKFFARsoFrtgoUUBGygWu2ChRQBZDMx3hIlFAFkMzHeEiUUAAKRe4jPJQQAApF7iM8lBA",
          "dtype": "f8"
         }
        }
       ],
       "layout": {
        "height": 800,
        "legend": {
         "bgcolor": "rgba(0,0,0,1)",
         "font": {
          "color": "white"
         },
         "x": 1.05,
         "xanchor": "left",
         "y": 0.99,
         "yanchor": "top"
        },
        "showlegend": true,
        "template": {
         "data": {
          "bar": [
           {
            "error_x": {
             "color": "#2a3f5f"
            },
            "error_y": {
             "color": "#2a3f5f"
            },
            "marker": {
             "line": {
              "color": "#E5ECF6",
              "width": 0.5
             },
             "pattern": {
              "fillmode": "overlay",
              "size": 10,
              "solidity": 0.2
             }
            },
            "type": "bar"
           }
          ],
          "barpolar": [
           {
            "marker": {
             "line": {
              "color": "#E5ECF6",
              "width": 0.5
             },
             "pattern": {
              "fillmode": "overlay",
              "size": 10,
              "solidity": 0.2
             }
            },
            "type": "barpolar"
           }
          ],
          "carpet": [
           {
            "aaxis": {
             "endlinecolor": "#2a3f5f",
             "gridcolor": "white",
             "linecolor": "white",
             "minorgridcolor": "white",
             "startlinecolor": "#2a3f5f"
            },
            "baxis": {
             "endlinecolor": "#2a3f5f",
             "gridcolor": "white",
             "linecolor": "white",
             "minorgridcolor": "white",
             "startlinecolor": "#2a3f5f"
            },
            "type": "carpet"
           }
          ],
          "choropleth": [
           {
            "colorbar": {
             "outlinewidth": 0,
             "ticks": ""
            },
            "type": "choropleth"
           }
          ],
          "contour": [
           {
            "colorbar": {
             "outlinewidth": 0,
             "ticks": ""
            },
            "colorscale": [
             [
              0,
              "#0d0887"
             ],
             [
              0.1111111111111111,
              "#46039f"
             ],
             [
              0.2222222222222222,
              "#7201a8"
             ],
             [
              0.3333333333333333,
              "#9c179e"
             ],
             [
              0.4444444444444444,
              "#bd3786"
             ],
             [
              0.5555555555555556,
              "#d8576b"
             ],
             [
              0.6666666666666666,
              "#ed7953"
             ],
             [
              0.7777777777777778,
              "#fb9f3a"
             ],
             [
              0.8888888888888888,
              "#fdca26"
             ],
             [
              1,
              "#f0f921"
             ]
            ],
            "type": "contour"
           }
          ],
          "contourcarpet": [
           {
            "colorbar": {
             "outlinewidth": 0,
             "ticks": ""
            },
            "type": "contourcarpet"
           }
          ],
          "heatmap": [
           {
            "colorbar": {
             "outlinewidth": 0,
             "ticks": ""
            },
            "colorscale": [
             [
              0,
              "#0d0887"
             ],
             [
              0.1111111111111111,
              "#46039f"
             ],
             [
              0.2222222222222222,
              "#7201a8"
             ],
             [
              0.3333333333333333,
              "#9c179e"
             ],
             [
              0.4444444444444444,
              "#bd3786"
             ],
             [
              0.5555555555555556,
              "#d8576b"
             ],
             [
              0.6666666666666666,
              "#ed7953"
             ],
             [
              0.7777777777777778,
              "#fb9f3a"
             ],
             [
              0.8888888888888888,
              "#fdca26"
             ],
             [
              1,
              "#f0f921"
             ]
            ],
            "type": "heatmap"
           }
          ],
          "histogram": [
           {
            "marker": {
             "pattern": {
              "fillmode": "overlay",
              "size": 10,
              "solidity": 0.2
             }
            },
            "type": "histogram"
           }
          ],
          "histogram2d": [
           {
            "colorbar": {
             "outlinewidth": 0,
             "ticks": ""
            },
            "colorscale": [
             [
              0,
              "#0d0887"
             ],
             [
              0.1111111111111111,
              "#46039f"
             ],
             [
              0.2222222222222222,
              "#7201a8"
             ],
             [
              0.3333333333333333,
              "#9c179e"
             ],
             [
              0.4444444444444444,
              "#bd3786"
             ],
             [
              0.5555555555555556,
              "#d8576b"
             ],
             [
              0.6666666666666666,
              "#ed7953"
             ],
             [
              0.7777777777777778,
              "#fb9f3a"
             ],
             [
              0.8888888888888888,
              "#fdca26"
             ],
             [
              1,
              "#f0f921"
             ]
            ],
            "type": "histogram2d"
           }
          ],
          "histogram2dcontour": [
           {
            "colorbar": {
             "outlinewidth": 0,
             "ticks": ""
            },
            "colorscale": [
             [
              0,
              "#0d0887"
             ],
             [
              0.1111111111111111,
              "#46039f"
             ],
             [
              0.2222222222222222,
              "#7201a8"
             ],
             [
              0.3333333333333333,
              "#9c179e"
             ],
             [
              0.4444444444444444,
              "#bd3786"
             ],
             [
              0.5555555555555556,
              "#d8576b"
             ],
             [
              0.6666666666666666,
              "#ed7953"
             ],
             [
              0.7777777777777778,
              "#fb9f3a"
             ],
             [
              0.8888888888888888,
              "#fdca26"
             ],
             [
              1,
              "#f0f921"
             ]
            ],
            "type": "histogram2dcontour"
           }
          ],
          "mesh3d": [
           {
            "colorbar": {
             "outlinewidth": 0,
             "ticks": ""
            },
            "type": "mesh3d"
           }
          ],
          "parcoords": [
           {
            "line": {
             "colorbar": {
              "outlinewidth": 0,
              "ticks": ""
             }
            },
            "type": "parcoords"
           }
          ],
          "pie": [
           {
            "automargin": true,
            "type": "pie"
           }
          ],
          "scatter": [
           {
            "fillpattern": {
             "fillmode": "overlay",
             "size": 10,
             "solidity": 0.2
            },
            "type": "scatter"
           }
          ],
          "scatter3d": [
           {
            "line": {
             "colorbar": {
              "outlinewidth": 0,
              "ticks": ""
             }
            },
            "marker": {
             "colorbar": {
              "outlinewidth": 0,
              "ticks": ""
             }
            },
            "type": "scatter3d"
           }
          ],
          "scattercarpet": [
           {
            "marker": {
             "colorbar": {
              "outlinewidth": 0,
              "ticks": ""
             }
            },
            "type": "scattercarpet"
           }
          ],
          "scattergeo": [
           {
            "marker": {
             "colorbar": {
              "outlinewidth": 0,
              "ticks": ""
             }
            },
            "type": "scattergeo"
           }
          ],
          "scattergl": [
           {
            "marker": {
             "colorbar": {
              "outlinewidth": 0,
              "ticks": ""
             }
            },
            "type": "scattergl"
           }
          ],
          "scattermap": [
           {
            "marker": {
             "colorbar": {
              "outlinewidth": 0,
              "ticks": ""
             }
            },
            "type": "scattermap"
           }
          ],
          "scattermapbox": [
           {
            "marker": {
             "colorbar": {
              "outlinewidth": 0,
              "ticks": ""
             }
            },
            "type": "scattermapbox"
           }
          ],
          "scatterpolar": [
           {
            "marker": {
             "colorbar": {
              "outlinewidth": 0,
              "ticks": ""
             }
            },
            "type": "scatterpolar"
           }
          ],
          "scatterpolargl": [
           {
            "marker": {
             "colorbar": {
              "outlinewidth": 0,
              "ticks": ""
             }
            },
            "type": "scatterpolargl"
           }
          ],
          "scatterternary": [
           {
            "marker": {
             "colorbar": {
              "outlinewidth": 0,
              "ticks": ""
             }
            },
            "type": "scatterternary"
           }
          ],
          "surface": [
           {
            "colorbar": {
             "outlinewidth": 0,
             "ticks": ""
            },
            "colorscale": [
             [
              0,
              "#0d0887"
             ],
             [
              0.1111111111111111,
              "#46039f"
             ],
             [
              0.2222222222222222,
              "#7201a8"
             ],
             [
              0.3333333333333333,
              "#9c179e"
             ],
             [
              0.4444444444444444,
              "#bd3786"
             ],
             [
              0.5555555555555556,
              "#d8576b"
             ],
             [
              0.6666666666666666,
              "#ed7953"
             ],
             [
              0.7777777777777778,
              "#fb9f3a"
             ],
             [
              0.8888888888888888,
              "#fdca26"
             ],
             [
              1,
              "#f0f921"
             ]
            ],
            "type": "surface"
           }
          ],
          "table": [
           {
            "cells": {
             "fill": {
              "color": "#EBF0F8"
             },
             "line": {
              "color": "white"
             }
            },
            "header": {
             "fill": {
              "color": "#C8D4E3"
             },
             "line": {
              "color": "white"
             }
            },
            "type": "table"
           }
          ]
         },
         "layout": {
          "annotationdefaults": {
           "arrowcolor": "#2a3f5f",
           "arrowhead": 0,
           "arrowwidth": 1
          },
          "autotypenumbers": "strict",
          "coloraxis": {
           "colorbar": {
            "outlinewidth": 0,
            "ticks": ""
           }
          },
          "colorscale": {
           "diverging": [
            [
             0,
             "#8e0152"
            ],
            [
             0.1,
             "#c51b7d"
            ],
            [
             0.2,
             "#de77ae"
            ],
            [
             0.3,
             "#f1b6da"
            ],
            [
             0.4,
             "#fde0ef"
            ],
            [
             0.5,
             "#f7f7f7"
            ],
            [
             0.6,
             "#e6f5d0"
            ],
            [
             0.7,
             "#b8e186"
            ],
            [
             0.8,
             "#7fbc41"
            ],
            [
             0.9,
             "#4d9221"
            ],
            [
             1,
             "#276419"
            ]
           ],
           "sequential": [
            [
             0,
             "#0d0887"
            ],
            [
             0.1111111111111111,
             "#46039f"
            ],
            [
             0.2222222222222222,
             "#7201a8"
            ],
            [
             0.3333333333333333,
             "#9c179e"
            ],
            [
             0.4444444444444444,
             "#bd3786"
            ],
            [
             0.5555555555555556,
             "#d8576b"
            ],
            [
             0.6666666666666666,
             "#ed7953"
            ],
            [
             0.7777777777777778,
             "#fb9f3a"
            ],
            [
             0.8888888888888888,
             "#fdca26"
            ],
            [
             1,
             "#f0f921"
            ]
           ],
           "sequentialminus": [
            [
             0,
             "#0d0887"
            ],
            [
             0.1111111111111111,
             "#46039f"
            ],
            [
             0.2222222222222222,
             "#7201a8"
            ],
            [
             0.3333333333333333,
             "#9c179e"
            ],
            [
             0.4444444444444444,
             "#bd3786"
            ],
            [
             0.5555555555555556,
             "#d8576b"
            ],
            [
             0.6666666666666666,
             "#ed7953"
            ],
            [
             0.7777777777777778,
             "#fb9f3a"
            ],
            [
             0.8888888888888888,
             "#fdca26"
            ],
            [
             1,
             "#f0f921"
            ]
           ]
          },
          "colorway": [
           "#636efa",
           "#EF553B",
           "#00cc96",
           "#ab63fa",
           "#FFA15A",
           "#19d3f3",
           "#FF6692",
           "#B6E880",
           "#FF97FF",
           "#FECB52"
          ],
          "font": {
           "color": "#2a3f5f"
          },
          "geo": {
           "bgcolor": "white",
           "lakecolor": "white",
           "landcolor": "#E5ECF6",
           "showlakes": true,
           "showland": true,
           "subunitcolor": "white"
          },
          "hoverlabel": {
           "align": "left"
          },
          "hovermode": "closest",
          "mapbox": {
           "style": "light"
          },
          "paper_bgcolor": "white",
          "plot_bgcolor": "#E5ECF6",
          "polar": {
           "angularaxis": {
            "gridcolor": "white",
            "linecolor": "white",
            "ticks": ""
           },
           "bgcolor": "#E5ECF6",
           "radialaxis": {
            "gridcolor": "white",
            "linecolor": "white",
            "ticks": ""
           }
          },
          "scene": {
           "xaxis": {
            "backgroundcolor": "#E5ECF6",
            "gridcolor": "white",
            "gridwidth": 2,
            "linecolor": "white",
            "showbackground": true,
            "ticks": "",
            "zerolinecolor": "white"
           },
           "yaxis": {
            "backgroundcolor": "#E5ECF6",
            "gridcolor": "white",
            "gridwidth": 2,
            "linecolor": "white",
            "showbackground": true,
            "ticks": "",
            "zerolinecolor": "white"
           },
           "zaxis": {
            "backgroundcolor": "#E5ECF6",
            "gridcolor": "white",
            "gridwidth": 2,
            "linecolor": "white",
            "showbackground": true,
            "ticks": "",
            "zerolinecolor": "white"
           }
          },
          "shapedefaults": {
           "line": {
            "color": "#2a3f5f"
           }
          },
          "ternary": {
           "aaxis": {
            "gridcolor": "white",
            "linecolor": "white",
            "ticks": ""
           },
           "baxis": {
            "gridcolor": "white",
            "linecolor": "white",
            "ticks": ""
           },
           "bgcolor": "#E5ECF6",
           "caxis": {
            "gridcolor": "white",
            "linecolor": "white",
            "ticks": ""
           }
          },
          "title": {
           "x": 0.05
          },
          "xaxis": {
           "automargin": true,
           "gridcolor": "white",
           "linecolor": "white",
           "ticks": "",
           "title": {
            "standoff": 15
           },
           "zerolinecolor": "white",
           "zerolinewidth": 2
          },
          "yaxis": {
           "automargin": true,
           "gridcolor": "white",
           "linecolor": "white",
           "ticks": "",
           "title": {
            "standoff": 15
           },
           "zerolinecolor": "white",
           "zerolinewidth": 2
          }
         }
        },
        "title": {
         "text": "Population-Level EV Charging Patterns"
        },
        "updatemenus": [
         {
          "bgcolor": "rgba(255,255,255,1)",
          "bordercolor": "rgba(255,255,255,0.3)",
          "buttons": [
           {
            "args": [
             {
              "visible": [
               true,
               true,
               true,
               false,
               false,
               false,
               false,
               false,
               false,
               false,
               false,
               false,
               false,
               false,
               false,
               false,
               false,
               false
              ]
             }
            ],
            "label": "Average (UK)",
            "method": "update"
           },
           {
            "args": [
             {
              "visible": [
               false,
               false,
               false,
               true,
               true,
               true,
               false,
               false,
               false,
               false,
               false,
               false,
               false,
               false,
               false,
               false,
               false,
               false
              ]
             }
            ],
            "label": "Intelligent Octopus average",
            "method": "update"
           },
           {
            "args": [
             {
              "visible": [
               false,
               false,
               false,
               false,
               false,
               false,
               true,
               true,
               true,
               false,
               false,
               false,
               false,
               false,
               false,
               false,
               false,
               false
              ]
             }
            ],
            "label": "Infrequent charging",
            "method": "update"
           },
           {
            "args": [
             {
              "visible": [
               false,
               false,
               false,
               false,
               false,
               false,
               false,
               false,
               false,
               true,
               true,
               true,
               false,
               false,
               false,
               false,
               false,
               false
              ]
             }
            ],
            "label": "Infrequent driving",
            "method": "update"
           },
           {
            "args": [
             {
              "visible": [
               false,
               false,
               false,
               false,
               false,
               false,
               false,
               false,
               false,
               false,
               false,
               false,
               true,
               true,
               true,
               false,
               false,
               false
              ]
             }
            ],
            "label": "Scheduled charging",
            "method": "update"
           },
           {
            "args": [
             {
              "visible": [
               false,
               false,
               false,
               false,
               false,
               false,
               false,
               false,
               false,
               false,
               false,
               false,
               false,
               false,
               false,
               true,
               true,
               true
              ]
             }
            ],
            "label": "Always plugged-in",
            "method": "update"
           }
          ],
          "direction": "down",
          "font": {
           "color": "black",
           "size": 12
          },
          "pad": {
           "r": 10,
           "t": 10
          },
          "showactive": true,
          "x": 0.83,
          "xanchor": "left",
          "y": 1.08,
          "yanchor": "top"
         }
        ],
        "width": 1500,
        "xaxis": {
         "dtick": 1,
         "range": [
          -0.5,
          23.5
         ],
         "tick0": 0,
         "tickmode": "linear",
         "title": {
          "text": "Hour of Day"
         }
        },
        "yaxis": {
         "range": [
          0,
          100
         ],
         "title": {
          "text": "State of Charge (%)"
         }
        }
       }
      }
     },
     "metadata": {},
     "output_type": "display_data"
    }
   ],
   "source": [
    "# plot population results\n",
    "simulator.plot_population_results()"
   ]
  },
  {
   "cell_type": "markdown",
   "metadata": {},
   "source": [
    "In the next plot, the charging and driving behavours of the different archetypes can be compared by clicking on the archetype name in the legend."
   ]
  },
  {
   "cell_type": "code",
   "execution_count": 5,
   "metadata": {},
   "outputs": [
    {
     "ename": "ValueError",
     "evalue": "\n    Invalid value of type 'builtins.dict' received for the 'active' property of layout.updatemenu\n        Received value: {'bgcolor': 'rgba(100,100,100,1)', 'font': {'color': 'white'}}\n\n    The 'active' property is a integer and may be specified as:\n      - An int (or float that will be cast to an int)\n        in the interval [-1, 9223372036854775807]",
     "output_type": "error",
     "traceback": [
      "\u001b[0;31m---------------------------------------------------------------------------\u001b[0m",
      "\u001b[0;31mValueError\u001b[0m                                Traceback (most recent call last)",
      "Cell \u001b[0;32mIn[5], line 1\u001b[0m\n\u001b[0;32m----> 1\u001b[0m \u001b[43msimulator\u001b[49m\u001b[38;5;241;43m.\u001b[39;49m\u001b[43mplot_archetype_comparison_plotly\u001b[49m\u001b[43m(\u001b[49m\u001b[43m)\u001b[49m\n",
      "File \u001b[0;32m~/Documents/Code/Axle_EV_flex/ev_model.py:374\u001b[0m, in \u001b[0;36mPopulationSimulator.plot_archetype_comparison_plotly\u001b[0;34m(self, percentile)\u001b[0m\n\u001b[1;32m    362\u001b[0m fig\u001b[38;5;241m.\u001b[39madd_trace(\n\u001b[1;32m    363\u001b[0m     go\u001b[38;5;241m.\u001b[39mScatter(\n\u001b[1;32m    364\u001b[0m         x\u001b[38;5;241m=\u001b[39msoc_mean\u001b[38;5;241m.\u001b[39mindex,\n\u001b[0;32m   (...)\u001b[0m\n\u001b[1;32m    370\u001b[0m     )\n\u001b[1;32m    371\u001b[0m )\n\u001b[1;32m    373\u001b[0m \u001b[38;5;66;03m# Update layout with hover and active styles for dropdown\u001b[39;00m\n\u001b[0;32m--> 374\u001b[0m \u001b[43mfig\u001b[49m\u001b[38;5;241;43m.\u001b[39;49m\u001b[43mupdate_layout\u001b[49m\u001b[43m(\u001b[49m\n\u001b[1;32m    375\u001b[0m \u001b[43m    \u001b[49m\u001b[43mxaxis_title\u001b[49m\u001b[38;5;241;43m=\u001b[39;49m\u001b[38;5;124;43m\"\u001b[39;49m\u001b[38;5;124;43mHour of Day\u001b[39;49m\u001b[38;5;124;43m\"\u001b[39;49m\u001b[43m,\u001b[49m\n\u001b[1;32m    376\u001b[0m \u001b[43m    \u001b[49m\u001b[43myaxis_title\u001b[49m\u001b[38;5;241;43m=\u001b[39;49m\u001b[38;5;124;43m\"\u001b[39;49m\u001b[38;5;124;43mState of Charge (\u001b[39;49m\u001b[38;5;124;43m%\u001b[39;49m\u001b[38;5;124;43m)\u001b[39;49m\u001b[38;5;124;43m\"\u001b[39;49m\u001b[43m,\u001b[49m\n\u001b[1;32m    377\u001b[0m \u001b[43m    \u001b[49m\u001b[43mtitle\u001b[49m\u001b[38;5;241;43m=\u001b[39;49m\u001b[38;5;124;43m\"\u001b[39;49m\u001b[38;5;124;43mPopulation-Level EV Charging Patterns\u001b[39;49m\u001b[38;5;124;43m\"\u001b[39;49m\u001b[43m,\u001b[49m\n\u001b[1;32m    378\u001b[0m \u001b[43m    \u001b[49m\u001b[43myaxis_range\u001b[49m\u001b[38;5;241;43m=\u001b[39;49m\u001b[43m[\u001b[49m\u001b[38;5;241;43m0\u001b[39;49m\u001b[43m,\u001b[49m\u001b[43m \u001b[49m\u001b[38;5;241;43m100\u001b[39;49m\u001b[43m]\u001b[49m\u001b[43m,\u001b[49m\n\u001b[1;32m    379\u001b[0m \u001b[43m    \u001b[49m\u001b[43mxaxis_range\u001b[49m\u001b[38;5;241;43m=\u001b[39;49m\u001b[43m[\u001b[49m\u001b[38;5;241;43m-\u001b[39;49m\u001b[38;5;241;43m0.5\u001b[39;49m\u001b[43m,\u001b[49m\u001b[43m \u001b[49m\u001b[38;5;241;43m23.5\u001b[39;49m\u001b[43m]\u001b[49m\u001b[43m,\u001b[49m\n\u001b[1;32m    380\u001b[0m \u001b[43m    \u001b[49m\u001b[43mxaxis\u001b[49m\u001b[38;5;241;43m=\u001b[39;49m\u001b[38;5;28;43mdict\u001b[39;49m\u001b[43m(\u001b[49m\u001b[43mtickmode\u001b[49m\u001b[38;5;241;43m=\u001b[39;49m\u001b[38;5;124;43m\"\u001b[39;49m\u001b[38;5;124;43mlinear\u001b[39;49m\u001b[38;5;124;43m\"\u001b[39;49m\u001b[43m,\u001b[49m\u001b[43m \u001b[49m\u001b[43mtick0\u001b[49m\u001b[38;5;241;43m=\u001b[39;49m\u001b[38;5;241;43m0\u001b[39;49m\u001b[43m,\u001b[49m\u001b[43m \u001b[49m\u001b[43mdtick\u001b[49m\u001b[38;5;241;43m=\u001b[39;49m\u001b[38;5;241;43m1\u001b[39;49m\u001b[43m)\u001b[49m\u001b[43m,\u001b[49m\n\u001b[1;32m    381\u001b[0m \u001b[43m    \u001b[49m\u001b[43mshowlegend\u001b[49m\u001b[38;5;241;43m=\u001b[39;49m\u001b[38;5;28;43;01mTrue\u001b[39;49;00m\u001b[43m,\u001b[49m\n\u001b[1;32m    382\u001b[0m \u001b[43m    \u001b[49m\u001b[43mlegend\u001b[49m\u001b[38;5;241;43m=\u001b[39;49m\u001b[38;5;28;43mdict\u001b[39;49m\u001b[43m(\u001b[49m\n\u001b[1;32m    383\u001b[0m \u001b[43m        \u001b[49m\u001b[43myanchor\u001b[49m\u001b[38;5;241;43m=\u001b[39;49m\u001b[38;5;124;43m\"\u001b[39;49m\u001b[38;5;124;43mtop\u001b[39;49m\u001b[38;5;124;43m\"\u001b[39;49m\u001b[43m,\u001b[49m\n\u001b[1;32m    384\u001b[0m \u001b[43m        \u001b[49m\u001b[43my\u001b[49m\u001b[38;5;241;43m=\u001b[39;49m\u001b[38;5;241;43m0.99\u001b[39;49m\u001b[43m,\u001b[49m\n\u001b[1;32m    385\u001b[0m \u001b[43m        \u001b[49m\u001b[43mxanchor\u001b[49m\u001b[38;5;241;43m=\u001b[39;49m\u001b[38;5;124;43m\"\u001b[39;49m\u001b[38;5;124;43mleft\u001b[39;49m\u001b[38;5;124;43m\"\u001b[39;49m\u001b[43m,\u001b[49m\n\u001b[1;32m    386\u001b[0m \u001b[43m        \u001b[49m\u001b[43mx\u001b[49m\u001b[38;5;241;43m=\u001b[39;49m\u001b[38;5;241;43m1.05\u001b[39;49m\u001b[43m,\u001b[49m\n\u001b[1;32m    387\u001b[0m \u001b[43m        \u001b[49m\u001b[43mbgcolor\u001b[49m\u001b[38;5;241;43m=\u001b[39;49m\u001b[38;5;124;43m\"\u001b[39;49m\u001b[38;5;124;43mrgba(0,0,0,1)\u001b[39;49m\u001b[38;5;124;43m\"\u001b[39;49m\u001b[43m,\u001b[49m\n\u001b[1;32m    388\u001b[0m \u001b[43m        \u001b[49m\u001b[43mfont\u001b[49m\u001b[38;5;241;43m=\u001b[39;49m\u001b[38;5;28;43mdict\u001b[39;49m\u001b[43m(\u001b[49m\u001b[43mcolor\u001b[49m\u001b[38;5;241;43m=\u001b[39;49m\u001b[38;5;124;43m\"\u001b[39;49m\u001b[38;5;124;43mwhite\u001b[39;49m\u001b[38;5;124;43m\"\u001b[39;49m\u001b[43m)\u001b[49m\u001b[43m,\u001b[49m\n\u001b[1;32m    389\u001b[0m \u001b[43m    \u001b[49m\u001b[43m)\u001b[49m\u001b[43m,\u001b[49m\n\u001b[1;32m    390\u001b[0m \u001b[43m    \u001b[49m\u001b[43mheight\u001b[49m\u001b[38;5;241;43m=\u001b[39;49m\u001b[38;5;241;43m800\u001b[39;49m\u001b[43m,\u001b[49m\n\u001b[1;32m    391\u001b[0m \u001b[43m    \u001b[49m\u001b[43mwidth\u001b[49m\u001b[38;5;241;43m=\u001b[39;49m\u001b[38;5;241;43m1500\u001b[39;49m\u001b[43m,\u001b[49m\n\u001b[1;32m    392\u001b[0m \u001b[43m    \u001b[49m\u001b[43mupdatemenus\u001b[49m\u001b[38;5;241;43m=\u001b[39;49m\u001b[43m[\u001b[49m\n\u001b[1;32m    393\u001b[0m \u001b[43m        \u001b[49m\u001b[38;5;28;43mdict\u001b[39;49m\u001b[43m(\u001b[49m\n\u001b[1;32m    394\u001b[0m \u001b[43m            \u001b[49m\u001b[43mbuttons\u001b[49m\u001b[38;5;241;43m=\u001b[39;49m\u001b[43m[\u001b[49m\n\u001b[1;32m    395\u001b[0m \u001b[43m                \u001b[49m\u001b[38;5;28;43mdict\u001b[39;49m\u001b[43m(\u001b[49m\n\u001b[1;32m    396\u001b[0m \u001b[43m                    \u001b[49m\u001b[43margs\u001b[49m\u001b[38;5;241;43m=\u001b[39;49m\u001b[43m[\u001b[49m\n\u001b[1;32m    397\u001b[0m \u001b[43m                        \u001b[49m\u001b[43m{\u001b[49m\n\u001b[1;32m    398\u001b[0m \u001b[43m                            \u001b[49m\u001b[38;5;124;43m\"\u001b[39;49m\u001b[38;5;124;43mvisible\u001b[39;49m\u001b[38;5;124;43m\"\u001b[39;49m\u001b[43m:\u001b[49m\u001b[43m \u001b[49m\u001b[43m[\u001b[49m\n\u001b[1;32m    399\u001b[0m \u001b[43m                                \u001b[49m\u001b[38;5;28;43;01mTrue\u001b[39;49;00m\u001b[43m \u001b[49m\u001b[38;5;28;43;01mif\u001b[39;49;00m\u001b[43m \u001b[49m\u001b[43ma\u001b[49m\u001b[43m \u001b[49m\u001b[38;5;241;43m==\u001b[39;49m\u001b[43m \u001b[49m\u001b[43march\u001b[49m\u001b[43m \u001b[49m\u001b[38;5;28;43;01melse\u001b[39;49;00m\u001b[43m \u001b[49m\u001b[38;5;28;43;01mFalse\u001b[39;49;00m\n\u001b[1;32m    400\u001b[0m \u001b[43m                                \u001b[49m\u001b[38;5;28;43;01mfor\u001b[39;49;00m\u001b[43m \u001b[49m\u001b[43ma\u001b[49m\u001b[43m \u001b[49m\u001b[38;5;129;43;01min\u001b[39;49;00m\u001b[43m \u001b[49m\u001b[38;5;28;43mself\u001b[39;49m\u001b[38;5;241;43m.\u001b[39;49m\u001b[43marchetype_df\u001b[49m\u001b[43m[\u001b[49m\u001b[38;5;124;43m\"\u001b[39;49m\u001b[38;5;124;43mName\u001b[39;49m\u001b[38;5;124;43m\"\u001b[39;49m\u001b[43m]\u001b[49m\n\u001b[1;32m    401\u001b[0m \u001b[43m                                \u001b[49m\u001b[38;5;28;43;01mfor\u001b[39;49;00m\u001b[43m \u001b[49m\u001b[43m_\u001b[49m\u001b[43m \u001b[49m\u001b[38;5;129;43;01min\u001b[39;49;00m\u001b[43m \u001b[49m\u001b[38;5;28;43mrange\u001b[39;49m\u001b[43m(\u001b[49m\u001b[38;5;241;43m3\u001b[39;49m\u001b[43m)\u001b[49m\n\u001b[1;32m    402\u001b[0m \u001b[43m                            \u001b[49m\u001b[43m]\u001b[49m\n\u001b[1;32m    403\u001b[0m \u001b[43m                        \u001b[49m\u001b[43m}\u001b[49m\n\u001b[1;32m    404\u001b[0m \u001b[43m                    \u001b[49m\u001b[43m]\u001b[49m\u001b[43m,\u001b[49m\n\u001b[1;32m    405\u001b[0m \u001b[43m                    \u001b[49m\u001b[43mlabel\u001b[49m\u001b[38;5;241;43m=\u001b[39;49m\u001b[43march\u001b[49m\u001b[43m,\u001b[49m\n\u001b[1;32m    406\u001b[0m \u001b[43m                    \u001b[49m\u001b[43mmethod\u001b[49m\u001b[38;5;241;43m=\u001b[39;49m\u001b[38;5;124;43m\"\u001b[39;49m\u001b[38;5;124;43mupdate\u001b[39;49m\u001b[38;5;124;43m\"\u001b[39;49m\u001b[43m,\u001b[49m\n\u001b[1;32m    407\u001b[0m \u001b[43m                \u001b[49m\u001b[43m)\u001b[49m\n\u001b[1;32m    408\u001b[0m \u001b[43m                \u001b[49m\u001b[38;5;28;43;01mfor\u001b[39;49;00m\u001b[43m \u001b[49m\u001b[43march\u001b[49m\u001b[43m \u001b[49m\u001b[38;5;129;43;01min\u001b[39;49;00m\u001b[43m \u001b[49m\u001b[38;5;28;43mself\u001b[39;49m\u001b[38;5;241;43m.\u001b[39;49m\u001b[43marchetype_df\u001b[49m\u001b[43m[\u001b[49m\u001b[38;5;124;43m\"\u001b[39;49m\u001b[38;5;124;43mName\u001b[39;49m\u001b[38;5;124;43m\"\u001b[39;49m\u001b[43m]\u001b[49m\n\u001b[1;32m    409\u001b[0m \u001b[43m            \u001b[49m\u001b[43m]\u001b[49m\u001b[43m,\u001b[49m\n\u001b[1;32m    410\u001b[0m \u001b[43m            \u001b[49m\u001b[43mdirection\u001b[49m\u001b[38;5;241;43m=\u001b[39;49m\u001b[38;5;124;43m\"\u001b[39;49m\u001b[38;5;124;43mdown\u001b[39;49m\u001b[38;5;124;43m\"\u001b[39;49m\u001b[43m,\u001b[49m\n\u001b[1;32m    411\u001b[0m \u001b[43m            \u001b[49m\u001b[43mshowactive\u001b[49m\u001b[38;5;241;43m=\u001b[39;49m\u001b[38;5;28;43;01mTrue\u001b[39;49;00m\u001b[43m,\u001b[49m\n\u001b[1;32m    412\u001b[0m \u001b[43m            \u001b[49m\u001b[43mx\u001b[49m\u001b[38;5;241;43m=\u001b[39;49m\u001b[38;5;241;43m0.83\u001b[39;49m\u001b[43m,\u001b[49m\n\u001b[1;32m    413\u001b[0m \u001b[43m            \u001b[49m\u001b[43my\u001b[49m\u001b[38;5;241;43m=\u001b[39;49m\u001b[38;5;241;43m1.08\u001b[39;49m\u001b[43m,\u001b[49m\n\u001b[1;32m    414\u001b[0m \u001b[43m            \u001b[49m\u001b[43mxanchor\u001b[49m\u001b[38;5;241;43m=\u001b[39;49m\u001b[38;5;124;43m\"\u001b[39;49m\u001b[38;5;124;43mleft\u001b[39;49m\u001b[38;5;124;43m\"\u001b[39;49m\u001b[43m,\u001b[49m\n\u001b[1;32m    415\u001b[0m \u001b[43m            \u001b[49m\u001b[43myanchor\u001b[49m\u001b[38;5;241;43m=\u001b[39;49m\u001b[38;5;124;43m\"\u001b[39;49m\u001b[38;5;124;43mtop\u001b[39;49m\u001b[38;5;124;43m\"\u001b[39;49m\u001b[43m,\u001b[49m\n\u001b[1;32m    416\u001b[0m \u001b[43m            \u001b[49m\u001b[43mbgcolor\u001b[49m\u001b[38;5;241;43m=\u001b[39;49m\u001b[38;5;124;43m\"\u001b[39;49m\u001b[38;5;124;43mrgba(50,50,50,1)\u001b[39;49m\u001b[38;5;124;43m\"\u001b[39;49m\u001b[43m,\u001b[49m\u001b[43m  \u001b[49m\u001b[38;5;66;43;03m# Dropdown background\u001b[39;49;00m\n\u001b[1;32m    417\u001b[0m \u001b[43m            \u001b[49m\u001b[43mfont\u001b[49m\u001b[38;5;241;43m=\u001b[39;49m\u001b[38;5;28;43mdict\u001b[39;49m\u001b[43m(\u001b[49m\u001b[43mcolor\u001b[49m\u001b[38;5;241;43m=\u001b[39;49m\u001b[38;5;124;43m\"\u001b[39;49m\u001b[38;5;124;43mwhite\u001b[39;49m\u001b[38;5;124;43m\"\u001b[39;49m\u001b[43m)\u001b[49m\u001b[43m,\u001b[49m\u001b[43m  \u001b[49m\u001b[38;5;66;43;03m# Dropdown text color\u001b[39;49;00m\n\u001b[1;32m    418\u001b[0m \u001b[43m            \u001b[49m\u001b[43mbordercolor\u001b[49m\u001b[38;5;241;43m=\u001b[39;49m\u001b[38;5;124;43m\"\u001b[39;49m\u001b[38;5;124;43mrgba(255,255,255,0.3)\u001b[39;49m\u001b[38;5;124;43m\"\u001b[39;49m\u001b[43m,\u001b[49m\n\u001b[1;32m    419\u001b[0m \u001b[43m            \u001b[49m\u001b[43mpad\u001b[49m\u001b[38;5;241;43m=\u001b[39;49m\u001b[43m{\u001b[49m\u001b[38;5;124;43m\"\u001b[39;49m\u001b[38;5;124;43mr\u001b[39;49m\u001b[38;5;124;43m\"\u001b[39;49m\u001b[43m:\u001b[49m\u001b[43m \u001b[49m\u001b[38;5;241;43m10\u001b[39;49m\u001b[43m,\u001b[49m\u001b[43m \u001b[49m\u001b[38;5;124;43m\"\u001b[39;49m\u001b[38;5;124;43mt\u001b[39;49m\u001b[38;5;124;43m\"\u001b[39;49m\u001b[43m:\u001b[49m\u001b[43m \u001b[49m\u001b[38;5;241;43m10\u001b[39;49m\u001b[43m}\u001b[49m\u001b[43m,\u001b[49m\u001b[43m  \u001b[49m\u001b[38;5;66;43;03m# Padding\u001b[39;49;00m\n\u001b[1;32m    420\u001b[0m \u001b[43m            \u001b[49m\u001b[38;5;66;43;03m# Adjust hover and selected item styles\u001b[39;49;00m\n\u001b[1;32m    421\u001b[0m \u001b[43m            \u001b[49m\u001b[43mhoverlabel\u001b[49m\u001b[38;5;241;43m=\u001b[39;49m\u001b[38;5;28;43mdict\u001b[39;49m\u001b[43m(\u001b[49m\n\u001b[1;32m    422\u001b[0m \u001b[43m                \u001b[49m\u001b[43mbgcolor\u001b[49m\u001b[38;5;241;43m=\u001b[39;49m\u001b[38;5;124;43m\"\u001b[39;49m\u001b[38;5;124;43mrgba(100,100,100,1)\u001b[39;49m\u001b[38;5;124;43m\"\u001b[39;49m\u001b[43m,\u001b[49m\u001b[43m  \u001b[49m\u001b[38;5;66;43;03m# Hover background color\u001b[39;49;00m\n\u001b[1;32m    423\u001b[0m \u001b[43m                \u001b[49m\u001b[43mfont\u001b[49m\u001b[38;5;241;43m=\u001b[39;49m\u001b[38;5;28;43mdict\u001b[39;49m\u001b[43m(\u001b[49m\u001b[43mcolor\u001b[49m\u001b[38;5;241;43m=\u001b[39;49m\u001b[38;5;124;43m\"\u001b[39;49m\u001b[38;5;124;43mwhite\u001b[39;49m\u001b[38;5;124;43m\"\u001b[39;49m\u001b[43m)\u001b[49m\u001b[43m,\u001b[49m\u001b[43m  \u001b[49m\u001b[38;5;66;43;03m# Font color on hover\u001b[39;49;00m\n\u001b[1;32m    424\u001b[0m \u001b[43m            \u001b[49m\u001b[43m)\u001b[49m\u001b[43m,\u001b[49m\n\u001b[1;32m    425\u001b[0m \u001b[43m            \u001b[49m\u001b[43mactive\u001b[49m\u001b[38;5;241;43m=\u001b[39;49m\u001b[38;5;28;43mdict\u001b[39;49m\u001b[43m(\u001b[49m\n\u001b[1;32m    426\u001b[0m \u001b[43m                \u001b[49m\u001b[43mbgcolor\u001b[49m\u001b[38;5;241;43m=\u001b[39;49m\u001b[38;5;124;43m\"\u001b[39;49m\u001b[38;5;124;43mrgba(100,100,100,1)\u001b[39;49m\u001b[38;5;124;43m\"\u001b[39;49m\u001b[43m,\u001b[49m\u001b[43m  \u001b[49m\u001b[38;5;66;43;03m# Active background color\u001b[39;49;00m\n\u001b[1;32m    427\u001b[0m \u001b[43m                \u001b[49m\u001b[43mfont\u001b[49m\u001b[38;5;241;43m=\u001b[39;49m\u001b[38;5;28;43mdict\u001b[39;49m\u001b[43m(\u001b[49m\u001b[43mcolor\u001b[49m\u001b[38;5;241;43m=\u001b[39;49m\u001b[38;5;124;43m\"\u001b[39;49m\u001b[38;5;124;43mwhite\u001b[39;49m\u001b[38;5;124;43m\"\u001b[39;49m\u001b[43m)\u001b[49m\u001b[43m,\u001b[49m\u001b[43m  \u001b[49m\u001b[38;5;66;43;03m# Font color when selected\u001b[39;49;00m\n\u001b[1;32m    428\u001b[0m \u001b[43m            \u001b[49m\u001b[43m)\u001b[49m\u001b[43m,\u001b[49m\n\u001b[1;32m    429\u001b[0m \u001b[43m        \u001b[49m\u001b[43m)\u001b[49m\n\u001b[1;32m    430\u001b[0m \u001b[43m    \u001b[49m\u001b[43m]\u001b[49m\u001b[43m,\u001b[49m\n\u001b[1;32m    431\u001b[0m \u001b[43m\u001b[49m\u001b[43m)\u001b[49m\n\u001b[1;32m    433\u001b[0m \u001b[38;5;28;01mreturn\u001b[39;00m fig\n",
      "File \u001b[0;32m~/Documents/Code/Axle_EV_flex/ev-sim/lib/python3.13/site-packages/plotly/graph_objs/_figure.py:787\u001b[0m, in \u001b[0;36mFigure.update_layout\u001b[0;34m(self, dict1, overwrite, **kwargs)\u001b[0m\n\u001b[1;32m    761\u001b[0m \u001b[38;5;28;01mdef\u001b[39;00m\u001b[38;5;250m \u001b[39m\u001b[38;5;21mupdate_layout\u001b[39m(\u001b[38;5;28mself\u001b[39m, dict1\u001b[38;5;241m=\u001b[39m\u001b[38;5;28;01mNone\u001b[39;00m, overwrite\u001b[38;5;241m=\u001b[39m\u001b[38;5;28;01mFalse\u001b[39;00m, \u001b[38;5;241m*\u001b[39m\u001b[38;5;241m*\u001b[39mkwargs) \u001b[38;5;241m-\u001b[39m\u001b[38;5;241m>\u001b[39m \u001b[38;5;124m\"\u001b[39m\u001b[38;5;124mFigure\u001b[39m\u001b[38;5;124m\"\u001b[39m:\n\u001b[1;32m    762\u001b[0m \u001b[38;5;250m    \u001b[39m\u001b[38;5;124;03m\"\"\"\u001b[39;00m\n\u001b[1;32m    763\u001b[0m \n\u001b[1;32m    764\u001b[0m \u001b[38;5;124;03m    Update the properties of the figure's layout with a dict and/or with\u001b[39;00m\n\u001b[0;32m   (...)\u001b[0m\n\u001b[1;32m    785\u001b[0m \n\u001b[1;32m    786\u001b[0m \u001b[38;5;124;03m    \"\"\"\u001b[39;00m\n\u001b[0;32m--> 787\u001b[0m     \u001b[38;5;28;01mreturn\u001b[39;00m \u001b[38;5;28;43msuper\u001b[39;49m\u001b[43m(\u001b[49m\u001b[43mFigure\u001b[49m\u001b[43m,\u001b[49m\u001b[43m \u001b[49m\u001b[38;5;28;43mself\u001b[39;49m\u001b[43m)\u001b[49m\u001b[38;5;241;43m.\u001b[39;49m\u001b[43mupdate_layout\u001b[49m\u001b[43m(\u001b[49m\u001b[43mdict1\u001b[49m\u001b[43m,\u001b[49m\u001b[43m \u001b[49m\u001b[43moverwrite\u001b[49m\u001b[43m,\u001b[49m\u001b[43m \u001b[49m\u001b[38;5;241;43m*\u001b[39;49m\u001b[38;5;241;43m*\u001b[39;49m\u001b[43mkwargs\u001b[49m\u001b[43m)\u001b[49m\n",
      "File \u001b[0;32m~/Documents/Code/Axle_EV_flex/ev-sim/lib/python3.13/site-packages/plotly/basedatatypes.py:1392\u001b[0m, in \u001b[0;36mBaseFigure.update_layout\u001b[0;34m(self, dict1, overwrite, **kwargs)\u001b[0m\n\u001b[1;32m   1368\u001b[0m \u001b[38;5;28;01mdef\u001b[39;00m\u001b[38;5;250m \u001b[39m\u001b[38;5;21mupdate_layout\u001b[39m(\u001b[38;5;28mself\u001b[39m, dict1\u001b[38;5;241m=\u001b[39m\u001b[38;5;28;01mNone\u001b[39;00m, overwrite\u001b[38;5;241m=\u001b[39m\u001b[38;5;28;01mFalse\u001b[39;00m, \u001b[38;5;241m*\u001b[39m\u001b[38;5;241m*\u001b[39mkwargs):\n\u001b[1;32m   1369\u001b[0m \u001b[38;5;250m    \u001b[39m\u001b[38;5;124;03m\"\"\"\u001b[39;00m\n\u001b[1;32m   1370\u001b[0m \u001b[38;5;124;03m    Update the properties of the figure's layout with a dict and/or with\u001b[39;00m\n\u001b[1;32m   1371\u001b[0m \u001b[38;5;124;03m    keyword arguments.\u001b[39;00m\n\u001b[0;32m   (...)\u001b[0m\n\u001b[1;32m   1390\u001b[0m \u001b[38;5;124;03m        The Figure object that the update_layout method was called on\u001b[39;00m\n\u001b[1;32m   1391\u001b[0m \u001b[38;5;124;03m    \"\"\"\u001b[39;00m\n\u001b[0;32m-> 1392\u001b[0m     \u001b[38;5;28;43mself\u001b[39;49m\u001b[38;5;241;43m.\u001b[39;49m\u001b[43mlayout\u001b[49m\u001b[38;5;241;43m.\u001b[39;49m\u001b[43mupdate\u001b[49m\u001b[43m(\u001b[49m\u001b[43mdict1\u001b[49m\u001b[43m,\u001b[49m\u001b[43m \u001b[49m\u001b[43moverwrite\u001b[49m\u001b[38;5;241;43m=\u001b[39;49m\u001b[43moverwrite\u001b[49m\u001b[43m,\u001b[49m\u001b[43m \u001b[49m\u001b[38;5;241;43m*\u001b[39;49m\u001b[38;5;241;43m*\u001b[39;49m\u001b[43mkwargs\u001b[49m\u001b[43m)\u001b[49m\n\u001b[1;32m   1393\u001b[0m     \u001b[38;5;28;01mreturn\u001b[39;00m \u001b[38;5;28mself\u001b[39m\n",
      "File \u001b[0;32m~/Documents/Code/Axle_EV_flex/ev-sim/lib/python3.13/site-packages/plotly/basedatatypes.py:5123\u001b[0m, in \u001b[0;36mBasePlotlyType.update\u001b[0;34m(self, dict1, overwrite, **kwargs)\u001b[0m\n\u001b[1;32m   5121\u001b[0m     \u001b[38;5;28;01mwith\u001b[39;00m \u001b[38;5;28mself\u001b[39m\u001b[38;5;241m.\u001b[39mfigure\u001b[38;5;241m.\u001b[39mbatch_update():\n\u001b[1;32m   5122\u001b[0m         BaseFigure\u001b[38;5;241m.\u001b[39m_perform_update(\u001b[38;5;28mself\u001b[39m, dict1, overwrite\u001b[38;5;241m=\u001b[39moverwrite)\n\u001b[0;32m-> 5123\u001b[0m         \u001b[43mBaseFigure\u001b[49m\u001b[38;5;241;43m.\u001b[39;49m\u001b[43m_perform_update\u001b[49m\u001b[43m(\u001b[49m\u001b[38;5;28;43mself\u001b[39;49m\u001b[43m,\u001b[49m\u001b[43m \u001b[49m\u001b[43mkwargs\u001b[49m\u001b[43m,\u001b[49m\u001b[43m \u001b[49m\u001b[43moverwrite\u001b[49m\u001b[38;5;241;43m=\u001b[39;49m\u001b[43moverwrite\u001b[49m\u001b[43m)\u001b[49m\n\u001b[1;32m   5124\u001b[0m \u001b[38;5;28;01melse\u001b[39;00m:\n\u001b[1;32m   5125\u001b[0m     BaseFigure\u001b[38;5;241m.\u001b[39m_perform_update(\u001b[38;5;28mself\u001b[39m, dict1, overwrite\u001b[38;5;241m=\u001b[39moverwrite)\n",
      "File \u001b[0;32m~/Documents/Code/Axle_EV_flex/ev-sim/lib/python3.13/site-packages/plotly/basedatatypes.py:3923\u001b[0m, in \u001b[0;36mBaseFigure._perform_update\u001b[0;34m(plotly_obj, update_obj, overwrite)\u001b[0m\n\u001b[1;32m   3917\u001b[0m             plotly_obj[key] \u001b[38;5;241m=\u001b[39m plotly_obj[key] \u001b[38;5;241m+\u001b[39m \u001b[38;5;28mtuple\u001b[39m(\n\u001b[1;32m   3918\u001b[0m                 val[\u001b[38;5;28mlen\u001b[39m(plotly_obj[key]) :]\n\u001b[1;32m   3919\u001b[0m             )\n\u001b[1;32m   3920\u001b[0m     \u001b[38;5;28;01melse\u001b[39;00m:\n\u001b[1;32m   3921\u001b[0m         \u001b[38;5;66;03m# plotly_obj is an empty or uninitialized list for key\u001b[39;00m\n\u001b[1;32m   3922\u001b[0m         \u001b[38;5;66;03m# In this case we accept val as is\u001b[39;00m\n\u001b[0;32m-> 3923\u001b[0m         \u001b[43mplotly_obj\u001b[49m\u001b[43m[\u001b[49m\u001b[43mkey\u001b[49m\u001b[43m]\u001b[49m \u001b[38;5;241m=\u001b[39m val\n\u001b[1;32m   3924\u001b[0m \u001b[38;5;28;01melse\u001b[39;00m:\n\u001b[1;32m   3925\u001b[0m     \u001b[38;5;66;03m# Assign non-compound value\u001b[39;00m\n\u001b[1;32m   3926\u001b[0m     plotly_obj[key] \u001b[38;5;241m=\u001b[39m val\n",
      "File \u001b[0;32m~/Documents/Code/Axle_EV_flex/ev-sim/lib/python3.13/site-packages/plotly/basedatatypes.py:5898\u001b[0m, in \u001b[0;36mBaseLayoutType.__setitem__\u001b[0;34m(self, prop, value)\u001b[0m\n\u001b[1;32m   5895\u001b[0m match \u001b[38;5;241m=\u001b[39m \u001b[38;5;28mself\u001b[39m\u001b[38;5;241m.\u001b[39m_subplot_re_match(prop)\n\u001b[1;32m   5896\u001b[0m \u001b[38;5;28;01mif\u001b[39;00m match \u001b[38;5;129;01mis\u001b[39;00m \u001b[38;5;28;01mNone\u001b[39;00m:\n\u001b[1;32m   5897\u001b[0m     \u001b[38;5;66;03m# Set as ordinary property\u001b[39;00m\n\u001b[0;32m-> 5898\u001b[0m     \u001b[38;5;28;43msuper\u001b[39;49m\u001b[43m(\u001b[49m\u001b[43mBaseLayoutHierarchyType\u001b[49m\u001b[43m,\u001b[49m\u001b[43m \u001b[49m\u001b[38;5;28;43mself\u001b[39;49m\u001b[43m)\u001b[49m\u001b[38;5;241;43m.\u001b[39;49m\u001b[38;5;21;43m__setitem__\u001b[39;49m\u001b[43m(\u001b[49m\u001b[43mprop\u001b[49m\u001b[43m,\u001b[49m\u001b[43m \u001b[49m\u001b[43mvalue\u001b[49m\u001b[43m)\u001b[49m\n\u001b[1;32m   5899\u001b[0m \u001b[38;5;28;01melse\u001b[39;00m:\n\u001b[1;32m   5900\u001b[0m     \u001b[38;5;66;03m# Set as subplotid property\u001b[39;00m\n\u001b[1;32m   5901\u001b[0m     \u001b[38;5;28mself\u001b[39m\u001b[38;5;241m.\u001b[39m_set_subplotid_prop(prop, value)\n",
      "File \u001b[0;32m~/Documents/Code/Axle_EV_flex/ev-sim/lib/python3.13/site-packages/plotly/basedatatypes.py:4856\u001b[0m, in \u001b[0;36mBasePlotlyType.__setitem__\u001b[0;34m(self, prop, value)\u001b[0m\n\u001b[1;32m   4854\u001b[0m \u001b[38;5;66;03m# ### Handle compound array property ###\u001b[39;00m\n\u001b[1;32m   4855\u001b[0m \u001b[38;5;28;01melif\u001b[39;00m \u001b[38;5;28misinstance\u001b[39m(validator, (CompoundArrayValidator, BaseDataValidator)):\n\u001b[0;32m-> 4856\u001b[0m     \u001b[38;5;28;43mself\u001b[39;49m\u001b[38;5;241;43m.\u001b[39;49m\u001b[43m_set_array_prop\u001b[49m\u001b[43m(\u001b[49m\u001b[43mprop\u001b[49m\u001b[43m,\u001b[49m\u001b[43m \u001b[49m\u001b[43mvalue\u001b[49m\u001b[43m)\u001b[49m\n\u001b[1;32m   4858\u001b[0m \u001b[38;5;66;03m# ### Handle simple property ###\u001b[39;00m\n\u001b[1;32m   4859\u001b[0m \u001b[38;5;28;01melse\u001b[39;00m:\n\u001b[1;32m   4860\u001b[0m     \u001b[38;5;28mself\u001b[39m\u001b[38;5;241m.\u001b[39m_set_prop(prop, value)\n",
      "File \u001b[0;32m~/Documents/Code/Axle_EV_flex/ev-sim/lib/python3.13/site-packages/plotly/basedatatypes.py:5337\u001b[0m, in \u001b[0;36mBasePlotlyType._set_array_prop\u001b[0;34m(self, prop, val)\u001b[0m\n\u001b[1;32m   5334\u001b[0m \u001b[38;5;66;03m# Import value\u001b[39;00m\n\u001b[1;32m   5335\u001b[0m \u001b[38;5;66;03m# ------------\u001b[39;00m\n\u001b[1;32m   5336\u001b[0m validator \u001b[38;5;241m=\u001b[39m \u001b[38;5;28mself\u001b[39m\u001b[38;5;241m.\u001b[39m_get_validator(prop)\n\u001b[0;32m-> 5337\u001b[0m val \u001b[38;5;241m=\u001b[39m \u001b[43mvalidator\u001b[49m\u001b[38;5;241;43m.\u001b[39;49m\u001b[43mvalidate_coerce\u001b[49m\u001b[43m(\u001b[49m\u001b[43mval\u001b[49m\u001b[43m,\u001b[49m\u001b[43m \u001b[49m\u001b[43mskip_invalid\u001b[49m\u001b[38;5;241;43m=\u001b[39;49m\u001b[38;5;28;43mself\u001b[39;49m\u001b[38;5;241;43m.\u001b[39;49m\u001b[43m_skip_invalid\u001b[49m\u001b[43m)\u001b[49m\n\u001b[1;32m   5339\u001b[0m \u001b[38;5;66;03m# Save deep copies of current and new states\u001b[39;00m\n\u001b[1;32m   5340\u001b[0m \u001b[38;5;66;03m# ------------------------------------------\u001b[39;00m\n\u001b[1;32m   5341\u001b[0m curr_val \u001b[38;5;241m=\u001b[39m \u001b[38;5;28mself\u001b[39m\u001b[38;5;241m.\u001b[39m_compound_array_props\u001b[38;5;241m.\u001b[39mget(prop, \u001b[38;5;28;01mNone\u001b[39;00m)\n",
      "File \u001b[0;32m~/Documents/Code/Axle_EV_flex/ev-sim/lib/python3.13/site-packages/_plotly_utils/basevalidators.py:2596\u001b[0m, in \u001b[0;36mCompoundArrayValidator.validate_coerce\u001b[0;34m(self, v, skip_invalid)\u001b[0m\n\u001b[1;32m   2594\u001b[0m     res\u001b[38;5;241m.\u001b[39mappend(\u001b[38;5;28mself\u001b[39m\u001b[38;5;241m.\u001b[39mdata_class(v_el))\n\u001b[1;32m   2595\u001b[0m \u001b[38;5;28;01melif\u001b[39;00m \u001b[38;5;28misinstance\u001b[39m(v_el, \u001b[38;5;28mdict\u001b[39m):\n\u001b[0;32m-> 2596\u001b[0m     res\u001b[38;5;241m.\u001b[39mappend(\u001b[38;5;28;43mself\u001b[39;49m\u001b[38;5;241;43m.\u001b[39;49m\u001b[43mdata_class\u001b[49m\u001b[43m(\u001b[49m\u001b[43mv_el\u001b[49m\u001b[43m,\u001b[49m\u001b[43m \u001b[49m\u001b[43mskip_invalid\u001b[49m\u001b[38;5;241;43m=\u001b[39;49m\u001b[43mskip_invalid\u001b[49m\u001b[43m)\u001b[49m)\n\u001b[1;32m   2597\u001b[0m \u001b[38;5;28;01melse\u001b[39;00m:\n\u001b[1;32m   2598\u001b[0m     \u001b[38;5;28;01mif\u001b[39;00m skip_invalid:\n",
      "File \u001b[0;32m~/Documents/Code/Axle_EV_flex/ev-sim/lib/python3.13/site-packages/plotly/graph_objs/layout/_updatemenu.py:852\u001b[0m, in \u001b[0;36mUpdatemenu.__init__\u001b[0;34m(self, arg, active, bgcolor, bordercolor, borderwidth, buttons, buttondefaults, direction, font, name, pad, showactive, templateitemname, type, visible, x, xanchor, y, yanchor, **kwargs)\u001b[0m\n\u001b[1;32m    850\u001b[0m _v \u001b[38;5;241m=\u001b[39m active \u001b[38;5;28;01mif\u001b[39;00m active \u001b[38;5;129;01mis\u001b[39;00m \u001b[38;5;129;01mnot\u001b[39;00m \u001b[38;5;28;01mNone\u001b[39;00m \u001b[38;5;28;01melse\u001b[39;00m _v\n\u001b[1;32m    851\u001b[0m \u001b[38;5;28;01mif\u001b[39;00m _v \u001b[38;5;129;01mis\u001b[39;00m \u001b[38;5;129;01mnot\u001b[39;00m \u001b[38;5;28;01mNone\u001b[39;00m:\n\u001b[0;32m--> 852\u001b[0m     \u001b[38;5;28;43mself\u001b[39;49m\u001b[43m[\u001b[49m\u001b[38;5;124;43m\"\u001b[39;49m\u001b[38;5;124;43mactive\u001b[39;49m\u001b[38;5;124;43m\"\u001b[39;49m\u001b[43m]\u001b[49m \u001b[38;5;241m=\u001b[39m _v\n\u001b[1;32m    853\u001b[0m _v \u001b[38;5;241m=\u001b[39m arg\u001b[38;5;241m.\u001b[39mpop(\u001b[38;5;124m\"\u001b[39m\u001b[38;5;124mbgcolor\u001b[39m\u001b[38;5;124m\"\u001b[39m, \u001b[38;5;28;01mNone\u001b[39;00m)\n\u001b[1;32m    854\u001b[0m _v \u001b[38;5;241m=\u001b[39m bgcolor \u001b[38;5;28;01mif\u001b[39;00m bgcolor \u001b[38;5;129;01mis\u001b[39;00m \u001b[38;5;129;01mnot\u001b[39;00m \u001b[38;5;28;01mNone\u001b[39;00m \u001b[38;5;28;01melse\u001b[39;00m _v\n",
      "File \u001b[0;32m~/Documents/Code/Axle_EV_flex/ev-sim/lib/python3.13/site-packages/plotly/basedatatypes.py:4860\u001b[0m, in \u001b[0;36mBasePlotlyType.__setitem__\u001b[0;34m(self, prop, value)\u001b[0m\n\u001b[1;32m   4856\u001b[0m         \u001b[38;5;28mself\u001b[39m\u001b[38;5;241m.\u001b[39m_set_array_prop(prop, value)\n\u001b[1;32m   4858\u001b[0m     \u001b[38;5;66;03m# ### Handle simple property ###\u001b[39;00m\n\u001b[1;32m   4859\u001b[0m     \u001b[38;5;28;01melse\u001b[39;00m:\n\u001b[0;32m-> 4860\u001b[0m         \u001b[38;5;28;43mself\u001b[39;49m\u001b[38;5;241;43m.\u001b[39;49m\u001b[43m_set_prop\u001b[49m\u001b[43m(\u001b[49m\u001b[43mprop\u001b[49m\u001b[43m,\u001b[49m\u001b[43m \u001b[49m\u001b[43mvalue\u001b[49m\u001b[43m)\u001b[49m\n\u001b[1;32m   4861\u001b[0m \u001b[38;5;28;01melse\u001b[39;00m:\n\u001b[1;32m   4862\u001b[0m     \u001b[38;5;66;03m# Make sure properties dict is initialized\u001b[39;00m\n\u001b[1;32m   4863\u001b[0m     \u001b[38;5;28mself\u001b[39m\u001b[38;5;241m.\u001b[39m_init_props()\n",
      "File \u001b[0;32m~/Documents/Code/Axle_EV_flex/ev-sim/lib/python3.13/site-packages/plotly/basedatatypes.py:5204\u001b[0m, in \u001b[0;36mBasePlotlyType._set_prop\u001b[0;34m(self, prop, val)\u001b[0m\n\u001b[1;32m   5202\u001b[0m         \u001b[38;5;28;01mreturn\u001b[39;00m\n\u001b[1;32m   5203\u001b[0m     \u001b[38;5;28;01melse\u001b[39;00m:\n\u001b[0;32m-> 5204\u001b[0m         \u001b[38;5;28;01mraise\u001b[39;00m err\n\u001b[1;32m   5206\u001b[0m \u001b[38;5;66;03m# val is None\u001b[39;00m\n\u001b[1;32m   5207\u001b[0m \u001b[38;5;66;03m# -----------\u001b[39;00m\n\u001b[1;32m   5208\u001b[0m \u001b[38;5;28;01mif\u001b[39;00m val \u001b[38;5;129;01mis\u001b[39;00m \u001b[38;5;28;01mNone\u001b[39;00m:\n\u001b[1;32m   5209\u001b[0m     \u001b[38;5;66;03m# Check if we should send null update\u001b[39;00m\n",
      "File \u001b[0;32m~/Documents/Code/Axle_EV_flex/ev-sim/lib/python3.13/site-packages/plotly/basedatatypes.py:5199\u001b[0m, in \u001b[0;36mBasePlotlyType._set_prop\u001b[0;34m(self, prop, val)\u001b[0m\n\u001b[1;32m   5196\u001b[0m validator \u001b[38;5;241m=\u001b[39m \u001b[38;5;28mself\u001b[39m\u001b[38;5;241m.\u001b[39m_get_validator(prop)\n\u001b[1;32m   5198\u001b[0m \u001b[38;5;28;01mtry\u001b[39;00m:\n\u001b[0;32m-> 5199\u001b[0m     val \u001b[38;5;241m=\u001b[39m \u001b[43mvalidator\u001b[49m\u001b[38;5;241;43m.\u001b[39;49m\u001b[43mvalidate_coerce\u001b[49m\u001b[43m(\u001b[49m\u001b[43mval\u001b[49m\u001b[43m)\u001b[49m\n\u001b[1;32m   5200\u001b[0m \u001b[38;5;28;01mexcept\u001b[39;00m \u001b[38;5;167;01mValueError\u001b[39;00m \u001b[38;5;28;01mas\u001b[39;00m err:\n\u001b[1;32m   5201\u001b[0m     \u001b[38;5;28;01mif\u001b[39;00m \u001b[38;5;28mself\u001b[39m\u001b[38;5;241m.\u001b[39m_skip_invalid:\n",
      "File \u001b[0;32m~/Documents/Code/Axle_EV_flex/ev-sim/lib/python3.13/site-packages/_plotly_utils/basevalidators.py:962\u001b[0m, in \u001b[0;36mIntegerValidator.validate_coerce\u001b[0;34m(self, v)\u001b[0m\n\u001b[1;32m    958\u001b[0m \u001b[38;5;28;01melse\u001b[39;00m:\n\u001b[1;32m    959\u001b[0m     \u001b[38;5;66;03m# Check int\u001b[39;00m\n\u001b[1;32m    960\u001b[0m     \u001b[38;5;28;01mif\u001b[39;00m \u001b[38;5;129;01mnot\u001b[39;00m \u001b[38;5;28misinstance\u001b[39m(v, \u001b[38;5;28mint\u001b[39m):\n\u001b[1;32m    961\u001b[0m         \u001b[38;5;66;03m# don't let int() cast strings to ints\u001b[39;00m\n\u001b[0;32m--> 962\u001b[0m         \u001b[38;5;28;43mself\u001b[39;49m\u001b[38;5;241;43m.\u001b[39;49m\u001b[43mraise_invalid_val\u001b[49m\u001b[43m(\u001b[49m\u001b[43mv\u001b[49m\u001b[43m)\u001b[49m\n\u001b[1;32m    964\u001b[0m     \u001b[38;5;66;03m# Check min/max\u001b[39;00m\n\u001b[1;32m    965\u001b[0m     \u001b[38;5;28;01mif\u001b[39;00m \u001b[38;5;28mself\u001b[39m\u001b[38;5;241m.\u001b[39mhas_min_max:\n",
      "File \u001b[0;32m~/Documents/Code/Axle_EV_flex/ev-sim/lib/python3.13/site-packages/_plotly_utils/basevalidators.py:299\u001b[0m, in \u001b[0;36mBaseValidator.raise_invalid_val\u001b[0;34m(self, v, inds)\u001b[0m\n\u001b[1;32m    296\u001b[0m             \u001b[38;5;28;01mfor\u001b[39;00m i \u001b[38;5;129;01min\u001b[39;00m inds:\n\u001b[1;32m    297\u001b[0m                 name \u001b[38;5;241m+\u001b[39m\u001b[38;5;241m=\u001b[39m \u001b[38;5;124m\"\u001b[39m\u001b[38;5;124m[\u001b[39m\u001b[38;5;124m\"\u001b[39m \u001b[38;5;241m+\u001b[39m \u001b[38;5;28mstr\u001b[39m(i) \u001b[38;5;241m+\u001b[39m \u001b[38;5;124m\"\u001b[39m\u001b[38;5;124m]\u001b[39m\u001b[38;5;124m\"\u001b[39m\n\u001b[0;32m--> 299\u001b[0m         \u001b[38;5;28;01mraise\u001b[39;00m \u001b[38;5;167;01mValueError\u001b[39;00m(\n\u001b[1;32m    300\u001b[0m \u001b[38;5;250m            \u001b[39m\u001b[38;5;124;03m\"\"\"\u001b[39;00m\n\u001b[1;32m    301\u001b[0m \u001b[38;5;124;03m    Invalid value of type {typ} received for the '{name}' property of {pname}\u001b[39;00m\n\u001b[1;32m    302\u001b[0m \u001b[38;5;124;03m        Received value: {v}\u001b[39;00m\n\u001b[1;32m    303\u001b[0m \n\u001b[1;32m    304\u001b[0m \u001b[38;5;124;03m{valid_clr_desc}\"\"\"\u001b[39;00m\u001b[38;5;241m.\u001b[39mformat(\n\u001b[1;32m    305\u001b[0m                 name\u001b[38;5;241m=\u001b[39mname,\n\u001b[1;32m    306\u001b[0m                 pname\u001b[38;5;241m=\u001b[39m\u001b[38;5;28mself\u001b[39m\u001b[38;5;241m.\u001b[39mparent_name,\n\u001b[1;32m    307\u001b[0m                 typ\u001b[38;5;241m=\u001b[39mtype_str(v),\n\u001b[1;32m    308\u001b[0m                 v\u001b[38;5;241m=\u001b[39m\u001b[38;5;28mrepr\u001b[39m(v),\n\u001b[1;32m    309\u001b[0m                 valid_clr_desc\u001b[38;5;241m=\u001b[39m\u001b[38;5;28mself\u001b[39m\u001b[38;5;241m.\u001b[39mdescription(),\n\u001b[1;32m    310\u001b[0m             )\n\u001b[1;32m    311\u001b[0m         )\n",
      "\u001b[0;31mValueError\u001b[0m: \n    Invalid value of type 'builtins.dict' received for the 'active' property of layout.updatemenu\n        Received value: {'bgcolor': 'rgba(100,100,100,1)', 'font': {'color': 'white'}}\n\n    The 'active' property is a integer and may be specified as:\n      - An int (or float that will be cast to an int)\n        in the interval [-1, 9223372036854775807]"
     ]
    }
   ],
   "source": [
    "simulator.plot_archetype_comparison_plotly()"
   ]
  },
  {
   "cell_type": "markdown",
   "metadata": {},
   "source": [
    "## Individual EV simulation"
   ]
  },
  {
   "cell_type": "markdown",
   "metadata": {},
   "source": [
    "An individual EV can be simulated by directly using the EV class."
   ]
  },
  {
   "cell_type": "code",
   "execution_count": 6,
   "metadata": {},
   "outputs": [
    {
     "data": {
      "image/png": "[encoded data removed]",
      "text/plain": [
       "<Figure size 1500x800 with 1 Axes>"
      ]
     },
     "metadata": {},
     "output_type": "display_data"
    }
   ],
   "source": [
    "# available archetypes: ['Average (UK)', 'Intelligent Octopus average', 'Infrequent charging', 'Infrequent driving', 'Scheduled charging', 'Always plugged-in']\n",
    "archetype_name = 'Average (UK)'\n",
    "ev = EVModel(archetypes_df[archetypes_df['Name'] == archetype_name].iloc[0])\n",
    "ev.plot_daily_profile()"
   ]
  },
  {
   "cell_type": "markdown",
   "metadata": {},
   "source": [
    "Or we can plot a indidual EV from the population by choosing the archetype from the dropdown menu."
   ]
  },
  {
   "cell_type": "code",
   "execution_count": 7,
   "metadata": {},
   "outputs": [
    {
     "data": {
      "application/vnd.plotly.v1+json": {
       "config": {
        "plotlyServerURL": "https://plot.ly"
       },
       "data": [
        {
         "line": {
          "width": 2
         },
         "name": "Average (UK) - SOC",
         "type": "scatter",
         "visible": true,
         "x": {
          "bdata": "AAECAwQFBgcICQoLDA0ODxAREhMUFRYX",
          "dtype": "i1"
         },
         "y": {
          "bdata": "U9Y463UkUUBT1jjrdSRRQP6A45UgD1RA/oDjlSAPVED+gOOVIA9UQP6A45UgD1RA/oDjlSAPVED+gOOVIA9UQP6A45UgD1RA/oDjlSAPVED+gOOVIA9UQP6A45UgD1RA/oDjlSAPVED+gOOVIA9UQP6A45UgD1RA/oDjlSAPVED+gOOVIA9UQP6A45UgD1RA/oDjlSAPVED+gOOVIA9UQP6A45UgD1RA/oDjlSAPVED+gOOVIA9UQP6A45UgD1RA",
          "dtype": "f8"
         }
        },
        {
         "marker": {
          "color": "rgba(128, 128, 128, 0.3)"
         },
         "name": "Plugged In",
         "type": "bar",
         "visible": true,
         "width": 1,
         "x": {
          "bdata": "AAECAwQFBgcICQoLDA0ODxAREhMUFRYX",
          "dtype": "i1"
         },
         "y": {
          "bdata": "ZGRkZGRkZGQAAAAAAAAAAABkZGRkZGRk",
          "dtype": "i1"
         }
        },
        {
         "line": {
          "width": 2
         },
         "name": "Intelligent Octopus average - SOC",
         "type": "scatter",
         "visible": false,
         "x": {
          "bdata": "AAECAwQFBgcICQoLDA0ODxAREhMUFRYX",
          "dtype": "i1"
         },
         "y": {
          "bdata": "LoMsA9YVUEAUInNbxH9SQBQic1vEf1JAFCJzW8R/UkD6wLmzsulUQPrAubOy6VRA+sC5s7LpVED6wLmzsulUQG0Q3d+pHlFAbRDd36keUUBtEN3fqR5RQG0Q3d+pHlFAbRDd36keUUBtEN3fqR5RQG0Q3d+pHlFAbRDd36keUUDAvwAYQqdKQMC/ABhCp0pAwL8AGEKnSkDAvwAYQqdKQMC/ABhCp0pAwL8AGEKnSkDAvwAYQqdKQMC/ABhCp0pA",
          "dtype": "f8"
         }
        },
        {
         "marker": {
          "color": "rgba(128, 128, 128, 0.3)"
         },
         "name": "Plugged In",
         "type": "bar",
         "visible": false,
         "width": 1,
         "x": {
          "bdata": "AAECAwQFBgcICQoLDA0ODxAREhMUFRYX",
          "dtype": "i1"
         },
         "y": {
          "bdata": "ZGRkZGRkZGQAAAAAAAAAAABkZGRkZGRk",
          "dtype": "i1"
         }
        },
        {
         "line": {
          "width": 2
         },
         "name": "Infrequent charging - SOC",
         "type": "scatter",
         "visible": false,
         "x": {
          "bdata": "AAECAwQFBgcICQoLDA0ODxAREhMUFRYX",
          "dtype": "i1"
         },
         "y": {
          "bdata": "viGgQaT6P0A0ZiV2p9JFQDRmJXan0kVAibt6y/ynS0BvCGgQqb5QQBqzErtTqVNAxV29Zf6TVkDFXb1l/pNWQMVdvWX+k1ZAxV29Zf6TVkDFXb1l/pNWQMVdvWX+k1ZAxV29Zf6TVkDFXb1l/pNWQMVdvWX+k1ZAxV29Zf6TVkDFXb1l/pNWQMVdvWX+k1ZAxV29Zf6TVkDFXb1l/pNWQMVdvWX+k1ZAxV29Zf6TVkDFXb1l/pNWQMVdvWX+k1ZA",
          "dtype": "f8"
         }
        },
        {
         "marker": {
          "color": "rgba(128, 128, 128, 0.3)"
         },
         "name": "Plugged In",
         "type": "bar",
         "visible": false,
         "width": 1,
         "x": {
          "bdata": "AAECAwQFBgcICQoLDA0ODxAREhMUFRYX",
          "dtype": "i1"
         },
         "y": {
          "bdata": "ZGRkZGRkZGRkAAAAAAAAAAAAAABkZGRk",
          "dtype": "i1"
         }
        },
        {
         "line": {
          "width": 2
         },
         "name": "Infrequent driving - SOC",
         "type": "scatter",
         "visible": false,
         "x": {
          "bdata": "AAECAwQFBgcICQoLDA0ODxAREhMUFRYX",
          "dtype": "i1"
         },
         "y": {
          "bdata": "PQZq6/6kVEA9Bmrr/qRUQD0Gauv+pFRAPQZq6/6kVEA9Bmrr/qRUQD0Gauv+pFRAPQZq6/6kVEA9Bmrr/qRUQD0Gauv+pFRAPQZq6/6kVEA9Bmrr/qRUQD0Gauv+pFRAPQZq6/6kVEA9Bmrr/qRUQD0Gauv+pFRAPQZq6/6kVEA9Bmrr/qRUQD0Gauv+pFRAPQZq6/6kVEA9Bmrr/qRUQD0Gauv+pFRAPQZq6/6kVEA9Bmrr/qRUQD0Gauv+pFRA",
          "dtype": "f8"
         }
        },
        {
         "marker": {
          "color": "rgba(128, 128, 128, 0.3)"
         },
         "name": "Plugged In",
         "type": "bar",
         "visible": false,
         "width": 1,
         "x": {
          "bdata": "AAECAwQFBgcICQoLDA0ODxAREhMUFRYX",
          "dtype": "i1"
         },
         "y": {
          "bdata": "ZGRkZGRkZGQAAAAAAAAAAAAAZGRkZGRk",
          "dtype": "i1"
         }
        },
        {
         "line": {
          "width": 2
         },
         "name": "Scheduled charging - SOC",
         "type": "scatter",
         "visible": false,
         "x": {
          "bdata": "AAECAwQFBgcICQoLDA0ODxAREhMUFRYX",
          "dtype": "i1"
         },
         "y": {
          "bdata": "Dd5K0KiyUkAN3krQqLJSQA3eStCoslJAuIj1elOdVUC4iPV6U51VQLiI9XpTnVVAuIj1elOdVUC4iPV6U51VQLiI9XpTnVVAuIj1elOdVUC4iPV6U51VQLiI9XpTnVVAuIj1elOdVUC4iPV6U51VQBpMfIhuE1RAGkx8iG4TVEAaTHyIbhNUQBpMfIhuE1RAGkx8iG4TVEAaTHyIbhNUQBpMfIhuE1RAGkx8iG4TVEAaTHyIbhNUQBpMfIhuE1RA",
          "dtype": "f8"
         }
        },
        {
         "marker": {
          "color": "rgba(128, 128, 128, 0.3)"
         },
         "name": "Plugged In",
         "type": "bar",
         "visible": false,
         "width": 1,
         "x": {
          "bdata": "AAECAwQFBgcICQoLDA0ODxAREhMUFRYX",
          "dtype": "i1"
         },
         "y": {
          "bdata": "ZGRkZGRkZGRkZAAAAAAAAAAAAAAAZGRk",
          "dtype": "i1"
         }
        },
        {
         "line": {
          "width": 2
         },
         "name": "Always plugged-in - SOC",
         "type": "scatter",
         "visible": false,
         "x": {
          "bdata": "AAECAwQFBgcICQoLDA0ODxAREhMUFRYX",
          "dtype": "i1"
         },
         "y": {
          "bdata": "ym8o54zLUkDKbyjnjMtSQMpvKOeMy1JAym8o54zLUkDKbyjnjMtSQMpvKOeMy1JAdRrTkTe2VUB1GtORN7ZVQHUa05E3tlVAdRrTkTe2VUB1GtORN7ZVQHUa05E3tlVAdRrTkTe2VUB1GtORN7ZVQHUa05E3tlVAdRrTkTe2VUDX3VmfUixUQNfdWZ9SLFRA191Zn1IsVEDX3VmfUixUQNfdWZ9SLFRA191Zn1IsVEDX3VmfUixUQNfdWZ9SLFRA",
          "dtype": "f8"
         }
        },
        {
         "marker": {
          "color": "rgba(128, 128, 128, 0.3)"
         },
         "name": "Plugged In",
         "type": "bar",
         "visible": false,
         "width": 1,
         "x": {
          "bdata": "AAECAwQFBgcICQoLDA0ODxAREhMUFRYX",
          "dtype": "i1"
         },
         "y": {
          "bdata": "ZGRkZGRkZGRkZGQAAAAAAAAAAAAAAABk",
          "dtype": "i1"
         }
        }
       ],
       "layout": {
        "height": 800,
        "legend": {
         "x": 1.05,
         "xanchor": "left",
         "y": 0.99,
         "yanchor": "top"
        },
        "showlegend": true,
        "template": {
         "data": {
          "bar": [
           {
            "error_x": {
             "color": "#2a3f5f"
            },
            "error_y": {
             "color": "#2a3f5f"
            },
            "marker": {
             "line": {
              "color": "#E5ECF6",
              "width": 0.5
             },
             "pattern": {
              "fillmode": "overlay",
              "size": 10,
              "solidity": 0.2
             }
            },
            "type": "bar"
           }
          ],
          "barpolar": [
           {
            "marker": {
             "line": {
              "color": "#E5ECF6",
              "width": 0.5
             },
             "pattern": {
              "fillmode": "overlay",
              "size": 10,
              "solidity": 0.2
             }
            },
            "type": "barpolar"
           }
          ],
          "carpet": [
           {
            "aaxis": {
             "endlinecolor": "#2a3f5f",
             "gridcolor": "white",
             "linecolor": "white",
             "minorgridcolor": "white",
             "startlinecolor": "#2a3f5f"
            },
            "baxis": {
             "endlinecolor": "#2a3f5f",
             "gridcolor": "white",
             "linecolor": "white",
             "minorgridcolor": "white",
             "startlinecolor": "#2a3f5f"
            },
            "type": "carpet"
           }
          ],
          "choropleth": [
           {
            "colorbar": {
             "outlinewidth": 0,
             "ticks": ""
            },
            "type": "choropleth"
           }
          ],
          "contour": [
           {
            "colorbar": {
             "outlinewidth": 0,
             "ticks": ""
            },
            "colorscale": [
             [
              0,
              "#0d0887"
             ],
             [
              0.1111111111111111,
              "#46039f"
             ],
             [
              0.2222222222222222,
              "#7201a8"
             ],
             [
              0.3333333333333333,
              "#9c179e"
             ],
             [
              0.4444444444444444,
              "#bd3786"
             ],
             [
              0.5555555555555556,
              "#d8576b"
             ],
             [
              0.6666666666666666,
              "#ed7953"
             ],
             [
              0.7777777777777778,
              "#fb9f3a"
             ],
             [
              0.8888888888888888,
              "#fdca26"
             ],
             [
              1,
              "#f0f921"
             ]
            ],
            "type": "contour"
           }
          ],
          "contourcarpet": [
           {
            "colorbar": {
             "outlinewidth": 0,
             "ticks": ""
            },
            "type": "contourcarpet"
           }
          ],
          "heatmap": [
           {
            "colorbar": {
             "outlinewidth": 0,
             "ticks": ""
            },
            "colorscale": [
             [
              0,
              "#0d0887"
             ],
             [
              0.1111111111111111,
              "#46039f"
             ],
             [
              0.2222222222222222,
              "#7201a8"
             ],
             [
              0.3333333333333333,
              "#9c179e"
             ],
             [
              0.4444444444444444,
              "#bd3786"
             ],
             [
              0.5555555555555556,
              "#d8576b"
             ],
             [
              0.6666666666666666,
              "#ed7953"
             ],
             [
              0.7777777777777778,
              "#fb9f3a"
             ],
             [
              0.8888888888888888,
              "#fdca26"
             ],
             [
              1,
              "#f0f921"
             ]
            ],
            "type": "heatmap"
           }
          ],
          "histogram": [
           {
            "marker": {
             "pattern": {
              "fillmode": "overlay",
              "size": 10,
              "solidity": 0.2
             }
            },
            "type": "histogram"
           }
          ],
          "histogram2d": [
           {
            "colorbar": {
             "outlinewidth": 0,
             "ticks": ""
            },
            "colorscale": [
             [
              0,
              "#0d0887"
             ],
             [
              0.1111111111111111,
              "#46039f"
             ],
             [
              0.2222222222222222,
              "#7201a8"
             ],
             [
              0.3333333333333333,
              "#9c179e"
             ],
             [
              0.4444444444444444,
              "#bd3786"
             ],
             [
              0.5555555555555556,
              "#d8576b"
             ],
             [
              0.6666666666666666,
              "#ed7953"
             ],
             [
              0.7777777777777778,
              "#fb9f3a"
             ],
             [
              0.8888888888888888,
              "#fdca26"
             ],
             [
              1,
              "#f0f921"
             ]
            ],
            "type": "histogram2d"
           }
          ],
          "histogram2dcontour": [
           {
            "colorbar": {
             "outlinewidth": 0,
             "ticks": ""
            },
            "colorscale": [
             [
              0,
              "#0d0887"
             ],
             [
              0.1111111111111111,
              "#46039f"
             ],
             [
              0.2222222222222222,
              "#7201a8"
             ],
             [
              0.3333333333333333,
              "#9c179e"
             ],
             [
              0.4444444444444444,
              "#bd3786"
             ],
             [
              0.5555555555555556,
              "#d8576b"
             ],
             [
              0.6666666666666666,
              "#ed7953"
             ],
             [
              0.7777777777777778,
              "#fb9f3a"
             ],
             [
              0.8888888888888888,
              "#fdca26"
             ],
             [
              1,
              "#f0f921"
             ]
            ],
            "type": "histogram2dcontour"
           }
          ],
          "mesh3d": [
           {
            "colorbar": {
             "outlinewidth": 0,
             "ticks": ""
            },
            "type": "mesh3d"
           }
          ],
          "parcoords": [
           {
            "line": {
             "colorbar": {
              "outlinewidth": 0,
              "ticks": ""
             }
            },
            "type": "parcoords"
           }
          ],
          "pie": [
           {
            "automargin": true,
            "type": "pie"
           }
          ],
          "scatter": [
           {
            "fillpattern": {
             "fillmode": "overlay",
             "size": 10,
             "solidity": 0.2
            },
            "type": "scatter"
           }
          ],
          "scatter3d": [
           {
            "line": {
             "colorbar": {
              "outlinewidth": 0,
              "ticks": ""
             }
            },
            "marker": {
             "colorbar": {
              "outlinewidth": 0,
              "ticks": ""
             }
            },
            "type": "scatter3d"
           }
          ],
          "scattercarpet": [
           {
            "marker": {
             "colorbar": {
              "outlinewidth": 0,
              "ticks": ""
             }
            },
            "type": "scattercarpet"
           }
          ],
          "scattergeo": [
           {
            "marker": {
             "colorbar": {
              "outlinewidth": 0,
              "ticks": ""
             }
            },
            "type": "scattergeo"
           }
          ],
          "scattergl": [
           {
            "marker": {
             "colorbar": {
              "outlinewidth": 0,
              "ticks": ""
             }
            },
            "type": "scattergl"
           }
          ],
          "scattermap": [
           {
            "marker": {
             "colorbar": {
              "outlinewidth": 0,
              "ticks": ""
             }
            },
            "type": "scattermap"
           }
          ],
          "scattermapbox": [
           {
            "marker": {
             "colorbar": {
              "outlinewidth": 0,
              "ticks": ""
             }
            },
            "type": "scattermapbox"
           }
          ],
          "scatterpolar": [
           {
            "marker": {
             "colorbar": {
              "outlinewidth": 0,
              "ticks": ""
             }
            },
            "type": "scatterpolar"
           }
          ],
          "scatterpolargl": [
           {
            "marker": {
             "colorbar": {
              "outlinewidth": 0,
              "ticks": ""
             }
            },
            "type": "scatterpolargl"
           }
          ],
          "scatterternary": [
           {
            "marker": {
             "colorbar": {
              "outlinewidth": 0,
              "ticks": ""
             }
            },
            "type": "scatterternary"
           }
          ],
          "surface": [
           {
            "colorbar": {
             "outlinewidth": 0,
             "ticks": ""
            },
            "colorscale": [
             [
              0,
              "#0d0887"
             ],
             [
              0.1111111111111111,
              "#46039f"
             ],
             [
              0.2222222222222222,
              "#7201a8"
             ],
             [
              0.3333333333333333,
              "#9c179e"
             ],
             [
              0.4444444444444444,
              "#bd3786"
             ],
             [
              0.5555555555555556,
              "#d8576b"
             ],
             [
              0.6666666666666666,
              "#ed7953"
             ],
             [
              0.7777777777777778,
              "#fb9f3a"
             ],
             [
              0.8888888888888888,
              "#fdca26"
             ],
             [
              1,
              "#f0f921"
             ]
            ],
            "type": "surface"
           }
          ],
          "table": [
           {
            "cells": {
             "fill": {
              "color": "#EBF0F8"
             },
             "line": {
              "color": "white"
             }
            },
            "header": {
             "fill": {
              "color": "#C8D4E3"
             },
             "line": {
              "color": "white"
             }
            },
            "type": "table"
           }
          ]
         },
         "layout": {
          "annotationdefaults": {
           "arrowcolor": "#2a3f5f",
           "arrowhead": 0,
           "arrowwidth": 1
          },
          "autotypenumbers": "strict",
          "coloraxis": {
           "colorbar": {
            "outlinewidth": 0,
            "ticks": ""
           }
          },
          "colorscale": {
           "diverging": [
            [
             0,
             "#8e0152"
            ],
            [
             0.1,
             "#c51b7d"
            ],
            [
             0.2,
             "#de77ae"
            ],
            [
             0.3,
             "#f1b6da"
            ],
            [
             0.4,
             "#fde0ef"
            ],
            [
             0.5,
             "#f7f7f7"
            ],
            [
             0.6,
             "#e6f5d0"
            ],
            [
             0.7,
             "#b8e186"
            ],
            [
             0.8,
             "#7fbc41"
            ],
            [
             0.9,
             "#4d9221"
            ],
            [
             1,
             "#276419"
            ]
           ],
           "sequential": [
            [
             0,
             "#0d0887"
            ],
            [
             0.1111111111111111,
             "#46039f"
            ],
            [
             0.2222222222222222,
             "#7201a8"
            ],
            [
             0.3333333333333333,
             "#9c179e"
            ],
            [
             0.4444444444444444,
             "#bd3786"
            ],
            [
             0.5555555555555556,
             "#d8576b"
            ],
            [
             0.6666666666666666,
             "#ed7953"
            ],
            [
             0.7777777777777778,
             "#fb9f3a"
            ],
            [
             0.8888888888888888,
             "#fdca26"
            ],
            [
             1,
             "#f0f921"
            ]
           ],
           "sequentialminus": [
            [
             0,
             "#0d0887"
            ],
            [
             0.1111111111111111,
             "#46039f"
            ],
            [
             0.2222222222222222,
             "#7201a8"
            ],
            [
             0.3333333333333333,
             "#9c179e"
            ],
            [
             0.4444444444444444,
             "#bd3786"
            ],
            [
             0.5555555555555556,
             "#d8576b"
            ],
            [
             0.6666666666666666,
             "#ed7953"
            ],
            [
             0.7777777777777778,
             "#fb9f3a"
            ],
            [
             0.8888888888888888,
             "#fdca26"
            ],
            [
             1,
             "#f0f921"
            ]
           ]
          },
          "colorway": [
           "#636efa",
           "#EF553B",
           "#00cc96",
           "#ab63fa",
           "#FFA15A",
           "#19d3f3",
           "#FF6692",
           "#B6E880",
           "#FF97FF",
           "#FECB52"
          ],
          "font": {
           "color": "#2a3f5f"
          },
          "geo": {
           "bgcolor": "white",
           "lakecolor": "white",
           "landcolor": "#E5ECF6",
           "showlakes": true,
           "showland": true,
           "subunitcolor": "white"
          },
          "hoverlabel": {
           "align": "left"
          },
          "hovermode": "closest",
          "mapbox": {
           "style": "light"
          },
          "paper_bgcolor": "white",
          "plot_bgcolor": "#E5ECF6",
          "polar": {
           "angularaxis": {
            "gridcolor": "white",
            "linecolor": "white",
            "ticks": ""
           },
           "bgcolor": "#E5ECF6",
           "radialaxis": {
            "gridcolor": "white",
            "linecolor": "white",
            "ticks": ""
           }
          },
          "scene": {
           "xaxis": {
            "backgroundcolor": "#E5ECF6",
            "gridcolor": "white",
            "gridwidth": 2,
            "linecolor": "white",
            "showbackground": true,
            "ticks": "",
            "zerolinecolor": "white"
           },
           "yaxis": {
            "backgroundcolor": "#E5ECF6",
            "gridcolor": "white",
            "gridwidth": 2,
            "linecolor": "white",
            "showbackground": true,
            "ticks": "",
            "zerolinecolor": "white"
           },
           "zaxis": {
            "backgroundcolor": "#E5ECF6",
            "gridcolor": "white",
            "gridwidth": 2,
            "linecolor": "white",
            "showbackground": true,
            "ticks": "",
            "zerolinecolor": "white"
           }
          },
          "shapedefaults": {
           "line": {
            "color": "#2a3f5f"
           }
          },
          "ternary": {
           "aaxis": {
            "gridcolor": "white",
            "linecolor": "white",
            "ticks": ""
           },
           "baxis": {
            "gridcolor": "white",
            "linecolor": "white",
            "ticks": ""
           },
           "bgcolor": "#E5ECF6",
           "caxis": {
            "gridcolor": "white",
            "linecolor": "white",
            "ticks": ""
           }
          },
          "title": {
           "x": 0.05
          },
          "xaxis": {
           "automargin": true,
           "gridcolor": "white",
           "linecolor": "white",
           "ticks": "",
           "title": {
            "standoff": 15
           },
           "zerolinecolor": "white",
           "zerolinewidth": 2
          },
          "yaxis": {
           "automargin": true,
           "gridcolor": "white",
           "linecolor": "white",
           "ticks": "",
           "title": {
            "standoff": 15
           },
           "zerolinecolor": "white",
           "zerolinewidth": 2
          }
         }
        },
        "title": {
         "text": "Daily EV Profile by Archetype"
        },
        "updatemenus": [
         {
          "buttons": [
           {
            "args": [
             {
              "visible": [
               true,
               true,
               false,
               false,
               false,
               false,
               false,
               false,
               false,
               false,
               false,
               false
              ]
             }
            ],
            "label": "Average (UK)",
            "method": "update"
           },
           {
            "args": [
             {
              "visible": [
               false,
               false,
               true,
               true,
               false,
               false,
               false,
               false,
               false,
               false,
               false,
               false
              ]
             }
            ],
            "label": "Intelligent Octopus average",
            "method": "update"
           },
           {
            "args": [
             {
              "visible": [
               false,
               false,
               false,
               false,
               true,
               true,
               false,
               false,
               false,
               false,
               false,
               false
              ]
             }
            ],
            "label": "Infrequent charging",
            "method": "update"
           },
           {
            "args": [
             {
              "visible": [
               false,
               false,
               false,
               false,
               false,
               false,
               true,
               true,
               false,
               false,
               false,
               false
              ]
             }
            ],
            "label": "Infrequent driving",
            "method": "update"
           },
           {
            "args": [
             {
              "visible": [
               false,
               false,
               false,
               false,
               false,
               false,
               false,
               false,
               true,
               true,
               false,
               false
              ]
             }
            ],
            "label": "Scheduled charging",
            "method": "update"
           },
           {
            "args": [
             {
              "visible": [
               false,
               false,
               false,
               false,
               false,
               false,
               false,
               false,
               false,
               false,
               true,
               true
              ]
             }
            ],
            "label": "Always plugged-in",
            "method": "update"
           }
          ],
          "direction": "down",
          "showactive": true,
          "x": 0.9,
          "xanchor": "right",
          "y": 1.15,
          "yanchor": "top"
         }
        ],
        "width": 1500,
        "xaxis": {
         "dtick": 1,
         "range": [
          -0.5,
          23.5
         ],
         "tick0": 0,
         "tickmode": "linear",
         "title": {
          "text": "Hour of Day"
         }
        },
        "yaxis": {
         "range": [
          0,
          100
         ],
         "title": {
          "text": "Battery State of Charge (%)"
         }
        }
       }
      }
     },
     "metadata": {},
     "output_type": "display_data"
    }
   ],
   "source": [
    "simulator.plot_individual_daily_profile()"
   ]
  }
 ],
 "metadata": {
  "kernelspec": {
   "display_name": "ev-sim",
   "language": "python",
   "name": "python3"
  },
  "language_info": {
   "codemirror_mode": {
    "name": "ipython",
    "version": 3
   },
   "file_extension": ".py",
   "mimetype": "text/x-python",
   "name": "python",
   "nbconvert_exporter": "python",
   "pygments_lexer": "ipython3",
   "version": "3.13.2"
  }
 },
 "nbformat": 4,
 "nbformat_minor": 2
}
